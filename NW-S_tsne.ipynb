{
 "cells": [
  {
   "cell_type": "code",
   "execution_count": 61,
   "id": "24782307",
   "metadata": {},
   "outputs": [],
   "source": [
    "import os\n",
    "import json\n",
    "import sys\n",
    "\n",
    "import pandas as pd\n",
    "from sklearn.manifold import TSNE\n",
    "import matplotlib.pyplot as plt\n",
    "import utils\n",
    "import numpy as np\n",
    "import plotly.express as px\n",
    "from sklearn.decomposition import PCA\n",
    "from sklearn.preprocessing import StandardScaler\n",
    "from hdbscan import HDBSCAN\n",
    "\n",
    "import plotly.express as px\n",
    "import plotly.io as pio\n",
    "\n",
    "from plotly import graph_objects as go\n",
    "from plotly.subplots import make_subplots\n",
    "\n",
    "from zca import ZCA\n",
    "# pio.renderers.default = 'notebook_connected' # set to 'svg' or 'png' for static plots\n",
    "pio.renderers.default = 'png'"
   ]
  },
  {
   "cell_type": "markdown",
   "id": "88bb2033",
   "metadata": {},
   "source": [
    "### Read data"
   ]
  },
  {
   "cell_type": "code",
   "execution_count": 62,
   "id": "5a19f9cc",
   "metadata": {},
   "outputs": [],
   "source": [
    "df = pd.read_csv(\"NW-S_tsne.txt\", sep = \"\\t\")"
   ]
  },
  {
   "cell_type": "code",
   "execution_count": 63,
   "id": "a39899eb",
   "metadata": {},
   "outputs": [],
   "source": [
    "df = df.fillna(0).T"
   ]
  },
  {
   "cell_type": "code",
   "execution_count": 64,
   "id": "c940fa88",
   "metadata": {},
   "outputs": [
    {
     "name": "stdout",
     "output_type": "stream",
     "text": [
      "(35, 131)\n",
      "5.916079783099616\n"
     ]
    }
   ],
   "source": [
    "print(df.shape)\n",
    "print(np.sqrt(35))"
   ]
  },
  {
   "cell_type": "code",
   "execution_count": 65,
   "id": "74affdff",
   "metadata": {},
   "outputs": [],
   "source": [
    "df.columns = df.loc['nt']"
   ]
  },
  {
   "cell_type": "code",
   "execution_count": 66,
   "id": "f2774b8d",
   "metadata": {},
   "outputs": [],
   "source": [
    "df = df.iloc[1:, :]"
   ]
  },
  {
   "cell_type": "code",
   "execution_count": 67,
   "id": "70f774ae",
   "metadata": {},
   "outputs": [
    {
     "data": {
      "text/plain": [
       "Index(['T:21528:C:Leu10Pro', 'A:21529::Val11fs', 'G:21545:T:Val16Phe',\n",
       "       'T:21626:C:Phe43Leu', 'T:21660:C:Leu54Ser', 'T:21671:C:Phe58Leu',\n",
       "       'T:21689:A:Trp64Arg', 'A:21696:G:His66Arg', 'G:21698:T:Ala67Ser',\n",
       "       ':21713:A:Asn72fs',\n",
       "       ...\n",
       "       'T:24945:C:Leu1149Ser', ':25029:A:Glu1179fs', 'G:25094:C:Glu1199Gln',\n",
       "       'A:25104:G:Lys1202Arg', 'T:25124:C:Trp1209Arg', 'G:25145:T:Gly1216Cys',\n",
       "       'T:25191:C:Leu1231Pro', 'G:25206:C:Ser1236Thr', 'G:25251:C:Cys1251Ser',\n",
       "       'G:25268:T:Asp1257Tyr'],\n",
       "      dtype='object', name='nt', length=131)"
      ]
     },
     "execution_count": 67,
     "metadata": {},
     "output_type": "execute_result"
    }
   ],
   "source": [
    "df.columns"
   ]
  },
  {
   "cell_type": "code",
   "execution_count": 68,
   "id": "8ba9bf86",
   "metadata": {},
   "outputs": [
    {
     "data": {
      "text/html": [
       "<div>\n",
       "<style scoped>\n",
       "    .dataframe tbody tr th:only-of-type {\n",
       "        vertical-align: middle;\n",
       "    }\n",
       "\n",
       "    .dataframe tbody tr th {\n",
       "        vertical-align: top;\n",
       "    }\n",
       "\n",
       "    .dataframe thead th {\n",
       "        text-align: right;\n",
       "    }\n",
       "</style>\n",
       "<table border=\"1\" class=\"dataframe\">\n",
       "  <thead>\n",
       "    <tr style=\"text-align: right;\">\n",
       "      <th>nt</th>\n",
       "      <th>T:21528:C:Leu10Pro</th>\n",
       "      <th>A:21529::Val11fs</th>\n",
       "      <th>G:21545:T:Val16Phe</th>\n",
       "      <th>T:21626:C:Phe43Leu</th>\n",
       "      <th>T:21660:C:Leu54Ser</th>\n",
       "      <th>T:21671:C:Phe58Leu</th>\n",
       "      <th>T:21689:A:Trp64Arg</th>\n",
       "      <th>A:21696:G:His66Arg</th>\n",
       "      <th>G:21698:T:Ala67Ser</th>\n",
       "      <th>:21713:A:Asn72fs</th>\n",
       "      <th>...</th>\n",
       "      <th>T:24945:C:Leu1149Ser</th>\n",
       "      <th>:25029:A:Glu1179fs</th>\n",
       "      <th>G:25094:C:Glu1199Gln</th>\n",
       "      <th>A:25104:G:Lys1202Arg</th>\n",
       "      <th>T:25124:C:Trp1209Arg</th>\n",
       "      <th>G:25145:T:Gly1216Cys</th>\n",
       "      <th>T:25191:C:Leu1231Pro</th>\n",
       "      <th>G:25206:C:Ser1236Thr</th>\n",
       "      <th>G:25251:C:Cys1251Ser</th>\n",
       "      <th>G:25268:T:Asp1257Tyr</th>\n",
       "    </tr>\n",
       "  </thead>\n",
       "  <tbody>\n",
       "    <tr>\n",
       "      <th>P-1-NW-1DPC</th>\n",
       "      <td>0.0</td>\n",
       "      <td>0.0</td>\n",
       "      <td>0.0</td>\n",
       "      <td>0.0</td>\n",
       "      <td>0.0</td>\n",
       "      <td>0.0</td>\n",
       "      <td>0.0</td>\n",
       "      <td>0.0</td>\n",
       "      <td>0.0</td>\n",
       "      <td>0.0</td>\n",
       "      <td>...</td>\n",
       "      <td>0.0</td>\n",
       "      <td>0.0</td>\n",
       "      <td>0.0</td>\n",
       "      <td>0.0</td>\n",
       "      <td>0.0</td>\n",
       "      <td>0.0</td>\n",
       "      <td>0.0</td>\n",
       "      <td>0.0</td>\n",
       "      <td>0.0</td>\n",
       "      <td>0.0</td>\n",
       "    </tr>\n",
       "    <tr>\n",
       "      <th>P-1-NW-3DPC</th>\n",
       "      <td>0.0</td>\n",
       "      <td>0.0</td>\n",
       "      <td>0.0</td>\n",
       "      <td>0.0</td>\n",
       "      <td>0.0</td>\n",
       "      <td>0.0</td>\n",
       "      <td>0.0</td>\n",
       "      <td>0.0</td>\n",
       "      <td>0.0</td>\n",
       "      <td>0.0</td>\n",
       "      <td>...</td>\n",
       "      <td>0.0</td>\n",
       "      <td>0.0</td>\n",
       "      <td>0.0</td>\n",
       "      <td>0.0</td>\n",
       "      <td>0.0</td>\n",
       "      <td>1.082251</td>\n",
       "      <td>0.0</td>\n",
       "      <td>0.0</td>\n",
       "      <td>0.0</td>\n",
       "      <td>0.0</td>\n",
       "    </tr>\n",
       "    <tr>\n",
       "      <th>P-1-NW-4DPC</th>\n",
       "      <td>0.0</td>\n",
       "      <td>0.0</td>\n",
       "      <td>0.0</td>\n",
       "      <td>0.0</td>\n",
       "      <td>0.0</td>\n",
       "      <td>0.0</td>\n",
       "      <td>1.590984</td>\n",
       "      <td>0.0</td>\n",
       "      <td>0.0</td>\n",
       "      <td>0.0</td>\n",
       "      <td>...</td>\n",
       "      <td>0.0</td>\n",
       "      <td>0.0</td>\n",
       "      <td>0.0</td>\n",
       "      <td>0.0</td>\n",
       "      <td>0.0</td>\n",
       "      <td>0.0</td>\n",
       "      <td>2.640845</td>\n",
       "      <td>0.0</td>\n",
       "      <td>0.0</td>\n",
       "      <td>0.0</td>\n",
       "    </tr>\n",
       "    <tr>\n",
       "      <th>P-2-NW-1DPC</th>\n",
       "      <td>0.0</td>\n",
       "      <td>0.0</td>\n",
       "      <td>0.0</td>\n",
       "      <td>0.0</td>\n",
       "      <td>0.0</td>\n",
       "      <td>0.0</td>\n",
       "      <td>0.0</td>\n",
       "      <td>0.0</td>\n",
       "      <td>0.0</td>\n",
       "      <td>0.0</td>\n",
       "      <td>...</td>\n",
       "      <td>0.0</td>\n",
       "      <td>0.0</td>\n",
       "      <td>0.0</td>\n",
       "      <td>0.0</td>\n",
       "      <td>0.0</td>\n",
       "      <td>0.0</td>\n",
       "      <td>0.0</td>\n",
       "      <td>0.0</td>\n",
       "      <td>0.0</td>\n",
       "      <td>0.0</td>\n",
       "    </tr>\n",
       "    <tr>\n",
       "      <th>P-2-NW-3DPC</th>\n",
       "      <td>0.0</td>\n",
       "      <td>0.0</td>\n",
       "      <td>0.0</td>\n",
       "      <td>0.0</td>\n",
       "      <td>0.0</td>\n",
       "      <td>0.0</td>\n",
       "      <td>0.0</td>\n",
       "      <td>0.0</td>\n",
       "      <td>0.0</td>\n",
       "      <td>0.0</td>\n",
       "      <td>...</td>\n",
       "      <td>0.0</td>\n",
       "      <td>0.0</td>\n",
       "      <td>0.0</td>\n",
       "      <td>0.0</td>\n",
       "      <td>0.0</td>\n",
       "      <td>0.0</td>\n",
       "      <td>0.0</td>\n",
       "      <td>0.0</td>\n",
       "      <td>0.0</td>\n",
       "      <td>0.0</td>\n",
       "    </tr>\n",
       "  </tbody>\n",
       "</table>\n",
       "<p>5 rows × 131 columns</p>\n",
       "</div>"
      ],
      "text/plain": [
       "nt          T:21528:C:Leu10Pro A:21529::Val11fs G:21545:T:Val16Phe  \\\n",
       "P-1-NW-1DPC                0.0              0.0                0.0   \n",
       "P-1-NW-3DPC                0.0              0.0                0.0   \n",
       "P-1-NW-4DPC                0.0              0.0                0.0   \n",
       "P-2-NW-1DPC                0.0              0.0                0.0   \n",
       "P-2-NW-3DPC                0.0              0.0                0.0   \n",
       "\n",
       "nt          T:21626:C:Phe43Leu T:21660:C:Leu54Ser T:21671:C:Phe58Leu  \\\n",
       "P-1-NW-1DPC                0.0                0.0                0.0   \n",
       "P-1-NW-3DPC                0.0                0.0                0.0   \n",
       "P-1-NW-4DPC                0.0                0.0                0.0   \n",
       "P-2-NW-1DPC                0.0                0.0                0.0   \n",
       "P-2-NW-3DPC                0.0                0.0                0.0   \n",
       "\n",
       "nt          T:21689:A:Trp64Arg A:21696:G:His66Arg G:21698:T:Ala67Ser  \\\n",
       "P-1-NW-1DPC                0.0                0.0                0.0   \n",
       "P-1-NW-3DPC                0.0                0.0                0.0   \n",
       "P-1-NW-4DPC           1.590984                0.0                0.0   \n",
       "P-2-NW-1DPC                0.0                0.0                0.0   \n",
       "P-2-NW-3DPC                0.0                0.0                0.0   \n",
       "\n",
       "nt          :21713:A:Asn72fs  ... T:24945:C:Leu1149Ser :25029:A:Glu1179fs  \\\n",
       "P-1-NW-1DPC              0.0  ...                  0.0                0.0   \n",
       "P-1-NW-3DPC              0.0  ...                  0.0                0.0   \n",
       "P-1-NW-4DPC              0.0  ...                  0.0                0.0   \n",
       "P-2-NW-1DPC              0.0  ...                  0.0                0.0   \n",
       "P-2-NW-3DPC              0.0  ...                  0.0                0.0   \n",
       "\n",
       "nt          G:25094:C:Glu1199Gln A:25104:G:Lys1202Arg T:25124:C:Trp1209Arg  \\\n",
       "P-1-NW-1DPC                  0.0                  0.0                  0.0   \n",
       "P-1-NW-3DPC                  0.0                  0.0                  0.0   \n",
       "P-1-NW-4DPC                  0.0                  0.0                  0.0   \n",
       "P-2-NW-1DPC                  0.0                  0.0                  0.0   \n",
       "P-2-NW-3DPC                  0.0                  0.0                  0.0   \n",
       "\n",
       "nt          G:25145:T:Gly1216Cys T:25191:C:Leu1231Pro G:25206:C:Ser1236Thr  \\\n",
       "P-1-NW-1DPC                  0.0                  0.0                  0.0   \n",
       "P-1-NW-3DPC             1.082251                  0.0                  0.0   \n",
       "P-1-NW-4DPC                  0.0             2.640845                  0.0   \n",
       "P-2-NW-1DPC                  0.0                  0.0                  0.0   \n",
       "P-2-NW-3DPC                  0.0                  0.0                  0.0   \n",
       "\n",
       "nt          G:25251:C:Cys1251Ser G:25268:T:Asp1257Tyr  \n",
       "P-1-NW-1DPC                  0.0                  0.0  \n",
       "P-1-NW-3DPC                  0.0                  0.0  \n",
       "P-1-NW-4DPC                  0.0                  0.0  \n",
       "P-2-NW-1DPC                  0.0                  0.0  \n",
       "P-2-NW-3DPC                  0.0                  0.0  \n",
       "\n",
       "[5 rows x 131 columns]"
      ]
     },
     "execution_count": 68,
     "metadata": {},
     "output_type": "execute_result"
    }
   ],
   "source": [
    "df.head()"
   ]
  },
  {
   "cell_type": "code",
   "execution_count": 69,
   "id": "294b8eee",
   "metadata": {},
   "outputs": [],
   "source": [
    "location = pd.Series(df.index).map(lambda x: '-'.join(x.split('-')[:1]))"
   ]
  },
  {
   "cell_type": "code",
   "execution_count": 70,
   "id": "f7f27478",
   "metadata": {},
   "outputs": [
    {
     "data": {
      "text/plain": [
       "0      P\n",
       "1      P\n",
       "2      P\n",
       "3      P\n",
       "4      P\n",
       "5      P\n",
       "6      P\n",
       "7      P\n",
       "8      P\n",
       "9      P\n",
       "10     P\n",
       "11     P\n",
       "12     P\n",
       "13     P\n",
       "14     P\n",
       "15    NP\n",
       "16    NP\n",
       "17    NP\n",
       "18    NP\n",
       "19    NP\n",
       "20    NP\n",
       "21    NP\n",
       "22    NP\n",
       "23    NP\n",
       "24    NP\n",
       "25    NP\n",
       "26    CO\n",
       "27    CO\n",
       "28    CO\n",
       "29    CO\n",
       "30    CO\n",
       "31    CO\n",
       "32    CO\n",
       "33    CO\n",
       "dtype: object"
      ]
     },
     "execution_count": 70,
     "metadata": {},
     "output_type": "execute_result"
    }
   ],
   "source": [
    "location"
   ]
  },
  {
   "cell_type": "markdown",
   "id": "a877381f",
   "metadata": {},
   "source": [
    "### Clustering using hdbscan"
   ]
  },
  {
   "cell_type": "code",
   "execution_count": 71,
   "id": "8dd56347",
   "metadata": {},
   "outputs": [],
   "source": [
    "clusterer = HDBSCAN().fit(df)"
   ]
  },
  {
   "cell_type": "code",
   "execution_count": 72,
   "id": "93d7baa3",
   "metadata": {},
   "outputs": [],
   "source": [
    "clusterID = pd.Series(clusterer.labels_).apply(lambda x: str(x))"
   ]
  },
  {
   "cell_type": "code",
   "execution_count": 73,
   "id": "67bc64d9",
   "metadata": {},
   "outputs": [
    {
     "data": {
      "text/plain": [
       "array([-1, -1, -1, -1, -1, -1, -1, -1, -1, -1, -1, -1, -1, -1, -1, -1, -1,\n",
       "       -1, -1, -1, -1, -1, -1, -1, -1, -1, -1, -1, -1, -1, -1, -1, -1, -1])"
      ]
     },
     "execution_count": 73,
     "metadata": {},
     "output_type": "execute_result"
    }
   ],
   "source": [
    "clusterer.labels_"
   ]
  },
  {
   "cell_type": "markdown",
   "id": "b30b78ab",
   "metadata": {},
   "source": [
    "### TSNE projections"
   ]
  },
  {
   "cell_type": "code",
   "execution_count": 74,
   "id": "1727cd97",
   "metadata": {},
   "outputs": [
    {
     "name": "stderr",
     "output_type": "stream",
     "text": [
      "/home/ec2-user/miniconda3/lib/python3.9/site-packages/sklearn/manifold/_t_sne.py:780: FutureWarning:\n",
      "\n",
      "The default initialization in TSNE will change from 'random' to 'pca' in 1.2.\n",
      "\n",
      "/home/ec2-user/miniconda3/lib/python3.9/site-packages/sklearn/manifold/_t_sne.py:790: FutureWarning:\n",
      "\n",
      "The default learning rate in TSNE will change from 200.0 to 'auto' in 1.2.\n",
      "\n"
     ]
    }
   ],
   "source": [
    "tsne = TSNE(n_components = 2, perplexity = 10, random_state = 123)\n",
    "tsne_results = tsne.fit_transform(df)"
   ]
  },
  {
   "cell_type": "code",
   "execution_count": 75,
   "id": "5edf071b",
   "metadata": {},
   "outputs": [],
   "source": [
    "tsne_df = pd.DataFrame({\"tsne-1\": tsne_results[:, 0],\n",
    "                       \"tsne-2\": tsne_results[:, 1], \n",
    "                      \"sampleID\": df.index, \n",
    "                       'locale': location})"
   ]
  },
  {
   "cell_type": "code",
   "execution_count": 76,
   "id": "e2505a17",
   "metadata": {},
   "outputs": [],
   "source": [
    "fig = px.scatter(tsne_df, x = \"tsne-1\", y = \"tsne-2\", hover_data = ['sampleID'], color = 'locale', height = 600, width = 800)"
   ]
  },
  {
   "cell_type": "code",
   "execution_count": 77,
   "id": "abf59c38",
   "metadata": {
    "scrolled": false
   },
   "outputs": [
    {
     "data": {
      "image/png": "[encoded data removed]"
     },
     "metadata": {},
     "output_type": "display_data"
    }
   ],
   "source": [
    "fig.show()"
   ]
  },
  {
   "cell_type": "markdown",
   "id": "bdaa7941",
   "metadata": {},
   "source": [
    "### UMAP projections"
   ]
  },
  {
   "cell_type": "code",
   "execution_count": 78,
   "id": "bf09997d",
   "metadata": {},
   "outputs": [],
   "source": [
    "from umap import UMAP"
   ]
  },
  {
   "cell_type": "code",
   "execution_count": 79,
   "id": "183e9341",
   "metadata": {},
   "outputs": [],
   "source": [
    "umap_2d = UMAP(n_components = 2, random_state = 123).fit_transform(df)"
   ]
  },
  {
   "cell_type": "code",
   "execution_count": 80,
   "id": "ca5c5923",
   "metadata": {},
   "outputs": [],
   "source": [
    "umap_df = pd.DataFrame({\"umap-1\":umap_2d[:, 0],\n",
    "                       \"umap-2\": umap_2d[:, 1], \n",
    "                      \"sampleID\": df.index, \n",
    "                      \"locale\": location})"
   ]
  },
  {
   "cell_type": "code",
   "execution_count": 81,
   "id": "38df93f9",
   "metadata": {},
   "outputs": [
    {
     "data": {
      "image/png": "[encoded data removed]"
     },
     "metadata": {},
     "output_type": "display_data"
    }
   ],
   "source": [
    "px.scatter(umap_df, x = 'umap-1', y = 'umap-2', hover_data = ['sampleID'], color = 'locale', height = 600, width = 800)"
   ]
  },
  {
   "cell_type": "code",
   "execution_count": null,
   "id": "b96985bb",
   "metadata": {},
   "outputs": [],
   "source": []
  }
 ],
 "metadata": {
  "kernelspec": {
   "display_name": "Python 3 (ipykernel)",
   "language": "python",
   "name": "python3"
  },
  "language_info": {
   "codemirror_mode": {
    "name": "ipython",
    "version": 3
   },
   "file_extension": ".py",
   "mimetype": "text/x-python",
   "name": "python",
   "nbconvert_exporter": "python",
   "pygments_lexer": "ipython3",
   "version": "3.9.12"
  }
 },
 "nbformat": 4,
 "nbformat_minor": 5
}
