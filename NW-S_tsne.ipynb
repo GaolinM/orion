{
 "cells": [
  {
   "cell_type": "code",
   "execution_count": 1,
   "id": "24782307",
   "metadata": {},
   "outputs": [],
   "source": [
    "import os\n",
    "import json\n",
    "import sys\n",
    "\n",
    "import pandas as pd\n",
    "from sklearn.manifold import TSNE\n",
    "import matplotlib.pyplot as plt\n",
    "import utils\n",
    "import numpy as np\n",
    "import plotly.express as px\n",
    "from sklearn.decomposition import PCA\n",
    "from sklearn.preprocessing import StandardScaler\n",
    "from hdbscan import HDBSCAN\n",
    "\n",
    "import plotly.express as px\n",
    "import plotly.io as pio\n",
    "\n",
    "from plotly import graph_objects as go\n",
    "from plotly.subplots import make_subplots\n",
    "\n",
    "from zca import ZCA\n",
    "# pio.renderers.default = 'notebook_connected' # set to 'svg' or 'png' for static plots\n",
    "pio.renderers.default = 'png'"
   ]
  },
  {
   "cell_type": "markdown",
   "id": "88bb2033",
   "metadata": {},
   "source": [
    "### Read data"
   ]
  },
  {
   "cell_type": "code",
   "execution_count": 2,
   "id": "5a19f9cc",
   "metadata": {},
   "outputs": [],
   "source": [
    "df = pd.read_csv(\"NW-S_tsne.txt\", sep = \"\\t\")"
   ]
  },
  {
   "cell_type": "code",
   "execution_count": 3,
   "id": "a39899eb",
   "metadata": {},
   "outputs": [],
   "source": [
    "df = df.fillna(0)"
   ]
  },
  {
   "cell_type": "code",
   "execution_count": 6,
   "id": "c940fa88",
   "metadata": {},
   "outputs": [
    {
     "name": "stdout",
     "output_type": "stream",
     "text": [
      "(131, 35)\n",
      "11.445523142259598\n"
     ]
    }
   ],
   "source": [
    "print(df.shape)\n",
    "print(np.sqrt(131))"
   ]
  },
  {
   "cell_type": "code",
   "execution_count": 13,
   "id": "74affdff",
   "metadata": {},
   "outputs": [],
   "source": [
    "df.set_index('nt', inplace=True)"
   ]
  },
  {
   "cell_type": "markdown",
   "id": "b30b78ab",
   "metadata": {},
   "source": [
    "### TSNE projections"
   ]
  },
  {
   "cell_type": "code",
   "execution_count": 14,
   "id": "1727cd97",
   "metadata": {},
   "outputs": [
    {
     "name": "stderr",
     "output_type": "stream",
     "text": [
      "/home/ec2-user/miniconda3/lib/python3.9/site-packages/sklearn/manifold/_t_sne.py:780: FutureWarning:\n",
      "\n",
      "The default initialization in TSNE will change from 'random' to 'pca' in 1.2.\n",
      "\n",
      "/home/ec2-user/miniconda3/lib/python3.9/site-packages/sklearn/manifold/_t_sne.py:790: FutureWarning:\n",
      "\n",
      "The default learning rate in TSNE will change from 200.0 to 'auto' in 1.2.\n",
      "\n"
     ]
    }
   ],
   "source": [
    "tsne = TSNE(n_components = 2, perplexity = 10, random_state = 123)\n",
    "tsne_results = tsne.fit_transform(df)"
   ]
  },
  {
   "cell_type": "code",
   "execution_count": 23,
   "id": "5edf071b",
   "metadata": {},
   "outputs": [],
   "source": [
    "tsne_df = pd.DataFrame({\"tsne-1\": tsne_results[:, 0],\n",
    "                       \"tsne-2\": tsne_results[:, 1], \n",
    "                      \"sampleID\": df.index})"
   ]
  },
  {
   "cell_type": "code",
   "execution_count": 34,
   "id": "e2505a17",
   "metadata": {},
   "outputs": [],
   "source": [
    "fig = px.scatter(tsne_df, x = \"tsne-1\", y = \"tsne-2\", hover_data = ['sampleID'])"
   ]
  },
  {
   "cell_type": "code",
   "execution_count": 31,
   "id": "abf59c38",
   "metadata": {},
   "outputs": [
    {
     "data": {
      "text/html": [
       "<div>                            <div id=\"41f9daca-5a18-4da1-891c-d98cb03bbd7d\" class=\"plotly-graph-div\" style=\"height:525px; width:100%;\"></div>            <script type=\"text/javascript\">                require([\"plotly\"], function(Plotly) {                    window.PLOTLYENV=window.PLOTLYENV || {};                                    if (document.getElementById(\"41f9daca-5a18-4da1-891c-d98cb03bbd7d\")) {                    Plotly.newPlot(                        \"41f9daca-5a18-4da1-891c-d98cb03bbd7d\",                        [{\"customdata\":[[\"T:21528:C:Leu10Pro\"],[\"A:21529::Val11fs\"],[\"G:21545:T:Val16Phe\"],[\"T:21626:C:Phe43Leu\"],[\"T:21660:C:Leu54Ser\"],[\"T:21671:C:Phe58Leu\"],[\"T:21689:A:Trp64Arg\"],[\"A:21696:G:His66Arg\"],[\"G:21698:T:Ala67Ser\"],[\":21713:A:Asn72fs\"],[\"T:21715:A:Asn72Lys\"],[\"G:21717:T:Gly73Val\"],[\"A:21793:G:Ile98Met\"],[\"T:21810:C:Phe104Ser\"],[\"TA:21822::Leu108fs\"],[\"A:21825:G:Asp109Gly\"],[\"C:21828:T:Ser110Leu\"],[\"T:21911:C:Phe138Leu\"],[\"A:21929:G:Lys144Glu\"],[\"A:21938::Ser148fs\"],[\"A:21951:G:Glu151Gly\"],[\"C:21978:T:Ala160Val\"],[\"A:21981:G:Asn161Ser\"],[\"T:22002:C:Val168Ala\"],[\"G:22032:T:Gly178Val\"],[\"A:22049::Asn185fs\"],[\"G:22067:A:Val190Met\"],[\"T:22098:A:Ile200Lys\"],[\"A:22101:T:Tyr201Phe\"],[\"G:22146:T:Gly216Val\"],[\"T:22147::Ser218fs\"],[\"GGT:22200:A:Arg234fs\"],[\"G:22201:T:Arg234Ser\"],[\"T:22202::Gln236fs\"],[\"C:22251:T:Ser251Phe\"],[\"TT:22312::Phe272fs\"],[\"A:22323:G:Lys275Arg\"],[\"G:22338:A:Gly280Glu\"],[\"G:22589:T:Val364Phe\"],[\"C:22602:A:Ser368Tyr\"],[\"G:22604:A:Ala369Thr\"],[\"T:22619:C:Phe374Leu\"],[\"T:22627::Tyr377fs\"],[\"C:22641:T:Pro381Leu\"],[\"T:22690:A:Phe397Leu\"],[\"A:22740:G:Lys414Arg\"],[\"A:22742:G:Ile415Val\"],[\"T:22751:A:Tyr418Asn\"],[\"TA:22757::Tyr420fs\"],[\"G:22787:A:Val430Ile\"],[\"G:22827:T:Gly443Val\"],[\"A:22892:G:Ile465Val\"],[\"G:22916:A:Gly473Ser\"],[\"T:22945::Phe483fs\"],[\"T:23061::Cys522fs\"],[\":23072:A:Ser527fs\"],[\"A:23129:G:Thr544Ala\"],[\"C:23148:T:Thr550Ile\"],[\"A:23159::Lys555fs\"],[\"C:23180:T:Gln561*\"],[\"G:23220:A:Arg574His\"],[\"A:23247:T:Asp583Val\"],[\"T:23274:C:Val592Ala\"],[\"T:23322::Tyr609fs\"],[\"T:23322:C:Leu608Pro\"],[\"A:23328:G:Gln610Arg\"],[\"G:23357:T:Ala620Ser\"],[\"C:23363:T:His622Tyr\"],[\"C:23403:T:Thr635Ile\"],[\"G:23405:A:Gly636Ser\"],[\"TA:23410::Asn638fs\"],[\"C:23453:T:His652Tyr\"],[\"G:23471:T:Glu658*\"],[\"G:23496:T:Gly666Val\"],[\"ATCAGACTCAGACTA:23511::Gln672_Asn676del\"],[\"C:23529:T:Ser677Phe\"],[\"G:23535:T:Arg679Leu\"],[\"C:23562:T:Ser688Phe\"],[\"A:23618:G:Asn707Asp\"],[\"CA:23659::Thr721fs\"],[\"A:23684:C:Thr729Pro\"],[\"C:23772:T:Thr758Ile\"],[\"A:23816::Asn774fs\"],[\":23858:A:Thr788fs\"],[\"A:23858:G:Lys787Glu\"],[\"A:23920::Lys808fs\"],[\"A:23942:T:Ile815Phe\"],[\"T:23958:C:Phe820Ser\"],[\"T:24019:G:Asp840Glu\"],[\"C:24024:T:Ala842Val\"],[\"G:24032:A:Asp845Asn\"],[\"C:24045:T:Ala849Val\"],[\"A:24056::Asn853fs\"],[\"TT:24069::Leu858fs\"],[\"G:24073:T:Leu858Phe\"],[\"A:24093:G:Glu865Gly\"],[\"T:24183:C:Phe895Ser\"],[\"A:24210:G:Asn904Ser\"],[\"G:24233:T:Val912Phe\"],[\"A:24249::Lys918fs\"],[\"A:24336:G:Gln946Arg\"],[\"C:24383:T:Gln962*\"],[\"G:24404:T:Ala969Ser\"],[\":24406:A:Ile970fs\"],[\"A:24422:G:Asn975Asp\"],[\"AT:24508::Tyr1004fs\"],[\"A:24573:G:Lys1025Arg\"],[\"T:24669:C:Val1057Ala\"],[\"T:24689:C:Tyr1064His\"],[\"A:24705:C:Glu1069Ala\"],[\":24721:T:Ala1075fs\"],[\"G:24722:A:Ala1075Thr\"],[\"T:24732::Cys1079fs\"],[\"G:24740:A:Asp1081Asn\"],[\"T:24814::Tyr1107fs\"],[\"C:24827:T:Gln1110*\"],[\"T:24866:C:Cys1123Arg\"],[\"A:24870:G:Asp1124Gly\"],[\"TA:24876::Val1126fs\"],[\"G:24882:T:Gly1128Val\"],[\"A:24890:G:Asn1131Asp\"],[\"T:24945:C:Leu1149Ser\"],[\":25029:A:Glu1179fs\"],[\"G:25094:C:Glu1199Gln\"],[\"A:25104:G:Lys1202Arg\"],[\"T:25124:C:Trp1209Arg\"],[\"G:25145:T:Gly1216Cys\"],[\"T:25191:C:Leu1231Pro\"],[\"G:25206:C:Ser1236Thr\"],[\"G:25251:C:Cys1251Ser\"],[\"G:25268:T:Asp1257Tyr\"]],\"hovertemplate\":\"tsne-1=%{x}<br>tsne-2=%{y}<br>sampleID=%{customdata[0]}<extra></extra>\",\"legendgroup\":\"\",\"marker\":{\"color\":\"#636efa\",\"symbol\":\"circle\"},\"mode\":\"markers\",\"name\":\"\",\"orientation\":\"v\",\"showlegend\":false,\"x\":[-1.8418487,10.45796,-0.6429867,-5.0472236,4.1196437,-4.9957237,6.013258,-17.66635,-6.0271044,0.47180495,-10.969411,2.4376733,-16.930624,-3.3117697,0.054815196,-17.110645,-4.4223127,34.533978,-15.550956,34.980503,-3.1886797,-12.473675,1.2097142,35.05715,3.4445055,10.748519,-14.264688,-5.6110783,-14.877207,-2.711023,-10.516867,9.759682,-6.3427305,-18.280415,34.424564,3.9598908,35.142723,10.610064,-18.7602,-5.805985,-5.585823,-14.977502,10.372178,-11.958762,-5.1618204,1.8480726,11.22252,-11.859848,35.755302,1.6908455,10.072143,11.320509,-12.275056,-15.02062,10.741434,11.109445,-1.5526752,9.197694,35.645008,0.6929667,-7.3860855,35.73161,1.0162636,-14.26715,4.297431,-5.479823,1.0143223,-6.966645,-0.7888004,-18.242132,10.649588,-7.1119285,10.610771,9.330089,0.111545086,0.93634945,-2.9425623,-4.2776794,4.179732,5.0540795,2.5465407,10.1687975,-14.78176,-4.8971505,0.6508454,-15.737099,-6.508808,-19.332876,-8.892093,10.932512,-10.797312,4.483242,-17.924059,-1.2174982,9.695891,3.6212914,-9.724433,-5.713121,-0.59816194,5.528137,-0.9255363,-8.666649,-9.724431,-5.3369145,-19.055302,3.1006374,-10.382954,-18.988474,-10.736313,4.5690117,35.861584,34.947895,11.998524,-5.409708,-9.896403,35.298504,-1.207967,12.197337,0.4546516,-15.985493,-18.032734,4.079418,-11.463594,0.14836761,11.6515,-0.29127347,-1.2648407,5.53437,-5.5446205,-9.160494,-15.59975],\"xaxis\":\"x\",\"y\":[-0.9594177,-4.536147,4.3353257,0.42948738,-10.251909,-0.5179535,1.6318345,-7.8817143,-0.6096731,2.1528919,2.0942953,3.2029986,-6.705287,0.8625205,14.251573,-6.98425,1.0993152,6.1377892,18.4126,7.716516,1.6689154,8.830424,9.145195,6.766478,1.2539656,-42.189186,18.183004,-15.231953,18.320917,5.938166,-4.566791,-38.901993,4.8481383,3.5302343,7.1355276,-9.606758,5.5473113,-4.546181,2.4431834,10.336893,10.485865,17.086498,7.145217,2.1843617,-14.775349,8.79223,-41.6083,8.173372,6.326478,8.068622,-41.868755,-43.792137,8.616433,19.151129,7.234711,7.324669,1.2094368,-39.42707,7.1718464,6.952225,-1.9520645,4.8622017,14.658994,19.22953,-11.111967,4.331116,7.6934547,-1.0561907,-6.418039,3.086032,-43.22849,5.388964,-40.967037,-39.04057,-0.19148219,13.077285,3.517518,0.0055232085,0.834182,0.3906139,9.711637,-39.873394,19.936954,-15.372188,8.436972,19.335657,-1.6430013,-10.415417,-4.088297,-4.5684805,2.080045,-12.004698,-8.335543,-6.06771,-40.561867,0.30708346,-3.6133046,0.5101243,-5.352236,-0.21057115,-4.89141,-3.1947656,-4.443653,-15.606263,-9.787572,0.8341915,-5.3722234,-9.896045,-6.947203,-0.21951893,4.0237446,4.227178,-4.6501045,-16.435966,-6.042875,3.3102815,-5.4685316,7.5659523,14.276032,21.378975,2.6330917,-10.106516,7.74758,7.3540444,-43.051525,5.711256,2.750203,-0.9990789,10.176865,-4.9621587,20.521027],\"yaxis\":\"y\",\"type\":\"scatter\"}],                        {\"template\":{\"data\":{\"histogram2dcontour\":[{\"type\":\"histogram2dcontour\",\"colorbar\":{\"outlinewidth\":0,\"ticks\":\"\"},\"colorscale\":[[0.0,\"#0d0887\"],[0.1111111111111111,\"#46039f\"],[0.2222222222222222,\"#7201a8\"],[0.3333333333333333,\"#9c179e\"],[0.4444444444444444,\"#bd3786\"],[0.5555555555555556,\"#d8576b\"],[0.6666666666666666,\"#ed7953\"],[0.7777777777777778,\"#fb9f3a\"],[0.8888888888888888,\"#fdca26\"],[1.0,\"#f0f921\"]]}],\"choropleth\":[{\"type\":\"choropleth\",\"colorbar\":{\"outlinewidth\":0,\"ticks\":\"\"}}],\"histogram2d\":[{\"type\":\"histogram2d\",\"colorbar\":{\"outlinewidth\":0,\"ticks\":\"\"},\"colorscale\":[[0.0,\"#0d0887\"],[0.1111111111111111,\"#46039f\"],[0.2222222222222222,\"#7201a8\"],[0.3333333333333333,\"#9c179e\"],[0.4444444444444444,\"#bd3786\"],[0.5555555555555556,\"#d8576b\"],[0.6666666666666666,\"#ed7953\"],[0.7777777777777778,\"#fb9f3a\"],[0.8888888888888888,\"#fdca26\"],[1.0,\"#f0f921\"]]}],\"heatmap\":[{\"type\":\"heatmap\",\"colorbar\":{\"outlinewidth\":0,\"ticks\":\"\"},\"colorscale\":[[0.0,\"#0d0887\"],[0.1111111111111111,\"#46039f\"],[0.2222222222222222,\"#7201a8\"],[0.3333333333333333,\"#9c179e\"],[0.4444444444444444,\"#bd3786\"],[0.5555555555555556,\"#d8576b\"],[0.6666666666666666,\"#ed7953\"],[0.7777777777777778,\"#fb9f3a\"],[0.8888888888888888,\"#fdca26\"],[1.0,\"#f0f921\"]]}],\"heatmapgl\":[{\"type\":\"heatmapgl\",\"colorbar\":{\"outlinewidth\":0,\"ticks\":\"\"},\"colorscale\":[[0.0,\"#0d0887\"],[0.1111111111111111,\"#46039f\"],[0.2222222222222222,\"#7201a8\"],[0.3333333333333333,\"#9c179e\"],[0.4444444444444444,\"#bd3786\"],[0.5555555555555556,\"#d8576b\"],[0.6666666666666666,\"#ed7953\"],[0.7777777777777778,\"#fb9f3a\"],[0.8888888888888888,\"#fdca26\"],[1.0,\"#f0f921\"]]}],\"contourcarpet\":[{\"type\":\"contourcarpet\",\"colorbar\":{\"outlinewidth\":0,\"ticks\":\"\"}}],\"contour\":[{\"type\":\"contour\",\"colorbar\":{\"outlinewidth\":0,\"ticks\":\"\"},\"colorscale\":[[0.0,\"#0d0887\"],[0.1111111111111111,\"#46039f\"],[0.2222222222222222,\"#7201a8\"],[0.3333333333333333,\"#9c179e\"],[0.4444444444444444,\"#bd3786\"],[0.5555555555555556,\"#d8576b\"],[0.6666666666666666,\"#ed7953\"],[0.7777777777777778,\"#fb9f3a\"],[0.8888888888888888,\"#fdca26\"],[1.0,\"#f0f921\"]]}],\"surface\":[{\"type\":\"surface\",\"colorbar\":{\"outlinewidth\":0,\"ticks\":\"\"},\"colorscale\":[[0.0,\"#0d0887\"],[0.1111111111111111,\"#46039f\"],[0.2222222222222222,\"#7201a8\"],[0.3333333333333333,\"#9c179e\"],[0.4444444444444444,\"#bd3786\"],[0.5555555555555556,\"#d8576b\"],[0.6666666666666666,\"#ed7953\"],[0.7777777777777778,\"#fb9f3a\"],[0.8888888888888888,\"#fdca26\"],[1.0,\"#f0f921\"]]}],\"mesh3d\":[{\"type\":\"mesh3d\",\"colorbar\":{\"outlinewidth\":0,\"ticks\":\"\"}}],\"scatter\":[{\"fillpattern\":{\"fillmode\":\"overlay\",\"size\":10,\"solidity\":0.2},\"type\":\"scatter\"}],\"parcoords\":[{\"type\":\"parcoords\",\"line\":{\"colorbar\":{\"outlinewidth\":0,\"ticks\":\"\"}}}],\"scatterpolargl\":[{\"type\":\"scatterpolargl\",\"marker\":{\"colorbar\":{\"outlinewidth\":0,\"ticks\":\"\"}}}],\"bar\":[{\"error_x\":{\"color\":\"#2a3f5f\"},\"error_y\":{\"color\":\"#2a3f5f\"},\"marker\":{\"line\":{\"color\":\"#E5ECF6\",\"width\":0.5},\"pattern\":{\"fillmode\":\"overlay\",\"size\":10,\"solidity\":0.2}},\"type\":\"bar\"}],\"scattergeo\":[{\"type\":\"scattergeo\",\"marker\":{\"colorbar\":{\"outlinewidth\":0,\"ticks\":\"\"}}}],\"scatterpolar\":[{\"type\":\"scatterpolar\",\"marker\":{\"colorbar\":{\"outlinewidth\":0,\"ticks\":\"\"}}}],\"histogram\":[{\"marker\":{\"pattern\":{\"fillmode\":\"overlay\",\"size\":10,\"solidity\":0.2}},\"type\":\"histogram\"}],\"scattergl\":[{\"type\":\"scattergl\",\"marker\":{\"colorbar\":{\"outlinewidth\":0,\"ticks\":\"\"}}}],\"scatter3d\":[{\"type\":\"scatter3d\",\"line\":{\"colorbar\":{\"outlinewidth\":0,\"ticks\":\"\"}},\"marker\":{\"colorbar\":{\"outlinewidth\":0,\"ticks\":\"\"}}}],\"scattermapbox\":[{\"type\":\"scattermapbox\",\"marker\":{\"colorbar\":{\"outlinewidth\":0,\"ticks\":\"\"}}}],\"scatterternary\":[{\"type\":\"scatterternary\",\"marker\":{\"colorbar\":{\"outlinewidth\":0,\"ticks\":\"\"}}}],\"scattercarpet\":[{\"type\":\"scattercarpet\",\"marker\":{\"colorbar\":{\"outlinewidth\":0,\"ticks\":\"\"}}}],\"carpet\":[{\"aaxis\":{\"endlinecolor\":\"#2a3f5f\",\"gridcolor\":\"white\",\"linecolor\":\"white\",\"minorgridcolor\":\"white\",\"startlinecolor\":\"#2a3f5f\"},\"baxis\":{\"endlinecolor\":\"#2a3f5f\",\"gridcolor\":\"white\",\"linecolor\":\"white\",\"minorgridcolor\":\"white\",\"startlinecolor\":\"#2a3f5f\"},\"type\":\"carpet\"}],\"table\":[{\"cells\":{\"fill\":{\"color\":\"#EBF0F8\"},\"line\":{\"color\":\"white\"}},\"header\":{\"fill\":{\"color\":\"#C8D4E3\"},\"line\":{\"color\":\"white\"}},\"type\":\"table\"}],\"barpolar\":[{\"marker\":{\"line\":{\"color\":\"#E5ECF6\",\"width\":0.5},\"pattern\":{\"fillmode\":\"overlay\",\"size\":10,\"solidity\":0.2}},\"type\":\"barpolar\"}],\"pie\":[{\"automargin\":true,\"type\":\"pie\"}]},\"layout\":{\"autotypenumbers\":\"strict\",\"colorway\":[\"#636efa\",\"#EF553B\",\"#00cc96\",\"#ab63fa\",\"#FFA15A\",\"#19d3f3\",\"#FF6692\",\"#B6E880\",\"#FF97FF\",\"#FECB52\"],\"font\":{\"color\":\"#2a3f5f\"},\"hovermode\":\"closest\",\"hoverlabel\":{\"align\":\"left\"},\"paper_bgcolor\":\"white\",\"plot_bgcolor\":\"#E5ECF6\",\"polar\":{\"bgcolor\":\"#E5ECF6\",\"angularaxis\":{\"gridcolor\":\"white\",\"linecolor\":\"white\",\"ticks\":\"\"},\"radialaxis\":{\"gridcolor\":\"white\",\"linecolor\":\"white\",\"ticks\":\"\"}},\"ternary\":{\"bgcolor\":\"#E5ECF6\",\"aaxis\":{\"gridcolor\":\"white\",\"linecolor\":\"white\",\"ticks\":\"\"},\"baxis\":{\"gridcolor\":\"white\",\"linecolor\":\"white\",\"ticks\":\"\"},\"caxis\":{\"gridcolor\":\"white\",\"linecolor\":\"white\",\"ticks\":\"\"}},\"coloraxis\":{\"colorbar\":{\"outlinewidth\":0,\"ticks\":\"\"}},\"colorscale\":{\"sequential\":[[0.0,\"#0d0887\"],[0.1111111111111111,\"#46039f\"],[0.2222222222222222,\"#7201a8\"],[0.3333333333333333,\"#9c179e\"],[0.4444444444444444,\"#bd3786\"],[0.5555555555555556,\"#d8576b\"],[0.6666666666666666,\"#ed7953\"],[0.7777777777777778,\"#fb9f3a\"],[0.8888888888888888,\"#fdca26\"],[1.0,\"#f0f921\"]],\"sequentialminus\":[[0.0,\"#0d0887\"],[0.1111111111111111,\"#46039f\"],[0.2222222222222222,\"#7201a8\"],[0.3333333333333333,\"#9c179e\"],[0.4444444444444444,\"#bd3786\"],[0.5555555555555556,\"#d8576b\"],[0.6666666666666666,\"#ed7953\"],[0.7777777777777778,\"#fb9f3a\"],[0.8888888888888888,\"#fdca26\"],[1.0,\"#f0f921\"]],\"diverging\":[[0,\"#8e0152\"],[0.1,\"#c51b7d\"],[0.2,\"#de77ae\"],[0.3,\"#f1b6da\"],[0.4,\"#fde0ef\"],[0.5,\"#f7f7f7\"],[0.6,\"#e6f5d0\"],[0.7,\"#b8e186\"],[0.8,\"#7fbc41\"],[0.9,\"#4d9221\"],[1,\"#276419\"]]},\"xaxis\":{\"gridcolor\":\"white\",\"linecolor\":\"white\",\"ticks\":\"\",\"title\":{\"standoff\":15},\"zerolinecolor\":\"white\",\"automargin\":true,\"zerolinewidth\":2},\"yaxis\":{\"gridcolor\":\"white\",\"linecolor\":\"white\",\"ticks\":\"\",\"title\":{\"standoff\":15},\"zerolinecolor\":\"white\",\"automargin\":true,\"zerolinewidth\":2},\"scene\":{\"xaxis\":{\"backgroundcolor\":\"#E5ECF6\",\"gridcolor\":\"white\",\"linecolor\":\"white\",\"showbackground\":true,\"ticks\":\"\",\"zerolinecolor\":\"white\",\"gridwidth\":2},\"yaxis\":{\"backgroundcolor\":\"#E5ECF6\",\"gridcolor\":\"white\",\"linecolor\":\"white\",\"showbackground\":true,\"ticks\":\"\",\"zerolinecolor\":\"white\",\"gridwidth\":2},\"zaxis\":{\"backgroundcolor\":\"#E5ECF6\",\"gridcolor\":\"white\",\"linecolor\":\"white\",\"showbackground\":true,\"ticks\":\"\",\"zerolinecolor\":\"white\",\"gridwidth\":2}},\"shapedefaults\":{\"line\":{\"color\":\"#2a3f5f\"}},\"annotationdefaults\":{\"arrowcolor\":\"#2a3f5f\",\"arrowhead\":0,\"arrowwidth\":1},\"geo\":{\"bgcolor\":\"white\",\"landcolor\":\"#E5ECF6\",\"subunitcolor\":\"white\",\"showland\":true,\"showlakes\":true,\"lakecolor\":\"white\"},\"title\":{\"x\":0.05},\"mapbox\":{\"style\":\"light\"}}},\"xaxis\":{\"anchor\":\"y\",\"domain\":[0.0,1.0],\"title\":{\"text\":\"tsne-1\"}},\"yaxis\":{\"anchor\":\"x\",\"domain\":[0.0,1.0],\"title\":{\"text\":\"tsne-2\"}},\"legend\":{\"tracegroupgap\":0},\"margin\":{\"t\":60}},                        {\"responsive\": true}                    ).then(function(){\n",
       "                            \n",
       "var gd = document.getElementById('41f9daca-5a18-4da1-891c-d98cb03bbd7d');\n",
       "var x = new MutationObserver(function (mutations, observer) {{\n",
       "        var display = window.getComputedStyle(gd).display;\n",
       "        if (!display || display === 'none') {{\n",
       "            console.log([gd, 'removed!']);\n",
       "            Plotly.purge(gd);\n",
       "            observer.disconnect();\n",
       "        }}\n",
       "}});\n",
       "\n",
       "// Listen for the removal of the full notebook cells\n",
       "var notebookContainer = gd.closest('#notebook-container');\n",
       "if (notebookContainer) {{\n",
       "    x.observe(notebookContainer, {childList: true});\n",
       "}}\n",
       "\n",
       "// Listen for the clearing of the current output cell\n",
       "var outputEl = gd.closest('.output');\n",
       "if (outputEl) {{\n",
       "    x.observe(outputEl, {childList: true});\n",
       "}}\n",
       "\n",
       "                        })                };                });            </script>        </div>"
      ]
     },
     "metadata": {},
     "output_type": "display_data"
    }
   ],
   "source": [
    "fig.show()"
   ]
  },
  {
   "cell_type": "code",
   "execution_count": null,
   "id": "d5be5ccf",
   "metadata": {},
   "outputs": [],
   "source": []
  }
 ],
 "metadata": {
  "kernelspec": {
   "display_name": "Python 3 (ipykernel)",
   "language": "python",
   "name": "python3"
  },
  "language_info": {
   "codemirror_mode": {
    "name": "ipython",
    "version": 3
   },
   "file_extension": ".py",
   "mimetype": "text/x-python",
   "name": "python",
   "nbconvert_exporter": "python",
   "pygments_lexer": "ipython3",
   "version": "3.9.12"
  }
 },
 "nbformat": 4,
 "nbformat_minor": 5
}
