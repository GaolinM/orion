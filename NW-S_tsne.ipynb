{
 "cells": [
  {
   "cell_type": "code",
   "execution_count": 15,
   "id": "24782307",
   "metadata": {},
   "outputs": [],
   "source": [
    "import os\n",
    "import json\n",
    "import sys\n",
    "\n",
    "import pandas as pd\n",
    "from sklearn.manifold import TSNE\n",
    "import matplotlib.pyplot as plt\n",
    "import utils\n",
    "import numpy as np\n",
    "import plotly.express as px\n",
    "from sklearn.decomposition import PCA\n",
    "from sklearn.preprocessing import StandardScaler\n",
    "from hdbscan import HDBSCAN\n",
    "\n",
    "import plotly.express as px\n",
    "import plotly.io as pio\n",
    "\n",
    "from plotly import graph_objects as go\n",
    "from plotly.subplots import make_subplots\n",
    "\n",
    "from zca import ZCA\n",
    "# pio.renderers.default = 'notebook_connected' # set to 'svg' or 'png' for static plots\n",
    "pio.renderers.default = 'png'"
   ]
  },
  {
   "cell_type": "markdown",
   "id": "88bb2033",
   "metadata": {},
   "source": [
    "### Read data"
   ]
  },
  {
   "cell_type": "code",
   "execution_count": 40,
   "id": "5a19f9cc",
   "metadata": {},
   "outputs": [],
   "source": [
    "df = pd.read_csv(\"NW-S_tsne.txt\", sep = \"\\t\")"
   ]
  },
  {
   "cell_type": "code",
   "execution_count": 41,
   "id": "a39899eb",
   "metadata": {},
   "outputs": [],
   "source": [
    "df = df.fillna(0)"
   ]
  },
  {
   "cell_type": "code",
   "execution_count": 42,
   "id": "c940fa88",
   "metadata": {},
   "outputs": [
    {
     "name": "stdout",
     "output_type": "stream",
     "text": [
      "(131, 35)\n",
      "11.445523142259598\n"
     ]
    }
   ],
   "source": [
    "print(df.shape)\n",
    "print(np.sqrt(131))"
   ]
  },
  {
   "cell_type": "code",
   "execution_count": 43,
   "id": "74affdff",
   "metadata": {},
   "outputs": [],
   "source": [
    "df.set_index('nt', inplace=True)"
   ]
  },
  {
   "cell_type": "code",
   "execution_count": 44,
   "id": "47e64382",
   "metadata": {},
   "outputs": [],
   "source": [
    "AA = df.index.map(lambda x: str(x).split(':')[-1][:3])"
   ]
  },
  {
   "cell_type": "code",
   "execution_count": 46,
   "id": "7a607802",
   "metadata": {},
   "outputs": [
    {
     "data": {
      "text/html": [
       "<div>\n",
       "<style scoped>\n",
       "    .dataframe tbody tr th:only-of-type {\n",
       "        vertical-align: middle;\n",
       "    }\n",
       "\n",
       "    .dataframe tbody tr th {\n",
       "        vertical-align: top;\n",
       "    }\n",
       "\n",
       "    .dataframe thead th {\n",
       "        text-align: right;\n",
       "    }\n",
       "</style>\n",
       "<table border=\"1\" class=\"dataframe\">\n",
       "  <thead>\n",
       "    <tr style=\"text-align: right;\">\n",
       "      <th></th>\n",
       "      <th>P-1-NW-1DPC</th>\n",
       "      <th>P-1-NW-3DPC</th>\n",
       "      <th>P-1-NW-4DPC</th>\n",
       "      <th>P-2-NW-1DPC</th>\n",
       "      <th>P-2-NW-3DPC</th>\n",
       "      <th>P-3-NW-1DPC</th>\n",
       "      <th>P-3-NW-3DPC</th>\n",
       "      <th>P-3-NW-4DPC</th>\n",
       "      <th>P-4-NW-1DPC</th>\n",
       "      <th>P-4-NW-3DPC</th>\n",
       "      <th>...</th>\n",
       "      <th>NP-9-NW-3DPC</th>\n",
       "      <th>NP-9-NW-4DPC</th>\n",
       "      <th>CO-12-NW-1DPC</th>\n",
       "      <th>CO-12-NW-3DPC</th>\n",
       "      <th>CO-12-NW-5DPC</th>\n",
       "      <th>CO-16-NW-1DPC</th>\n",
       "      <th>CO-16-NW-3DPC</th>\n",
       "      <th>CO-20-NW-1DPC</th>\n",
       "      <th>CO-20-NW-3DPC</th>\n",
       "      <th>CO-20-NW-5DPC</th>\n",
       "    </tr>\n",
       "    <tr>\n",
       "      <th>nt</th>\n",
       "      <th></th>\n",
       "      <th></th>\n",
       "      <th></th>\n",
       "      <th></th>\n",
       "      <th></th>\n",
       "      <th></th>\n",
       "      <th></th>\n",
       "      <th></th>\n",
       "      <th></th>\n",
       "      <th></th>\n",
       "      <th></th>\n",
       "      <th></th>\n",
       "      <th></th>\n",
       "      <th></th>\n",
       "      <th></th>\n",
       "      <th></th>\n",
       "      <th></th>\n",
       "      <th></th>\n",
       "      <th></th>\n",
       "      <th></th>\n",
       "      <th></th>\n",
       "    </tr>\n",
       "  </thead>\n",
       "  <tbody>\n",
       "    <tr>\n",
       "      <th>T:21528:C:Leu10Pro</th>\n",
       "      <td>0.0</td>\n",
       "      <td>0.0</td>\n",
       "      <td>0.0</td>\n",
       "      <td>0.0</td>\n",
       "      <td>0.0</td>\n",
       "      <td>0.0</td>\n",
       "      <td>0.0</td>\n",
       "      <td>0.0</td>\n",
       "      <td>0.000000</td>\n",
       "      <td>0.0</td>\n",
       "      <td>...</td>\n",
       "      <td>0.0</td>\n",
       "      <td>0.000000</td>\n",
       "      <td>0.0</td>\n",
       "      <td>0.0</td>\n",
       "      <td>0.0</td>\n",
       "      <td>0.0</td>\n",
       "      <td>0.0</td>\n",
       "      <td>0.0</td>\n",
       "      <td>0.0</td>\n",
       "      <td>0.0</td>\n",
       "    </tr>\n",
       "    <tr>\n",
       "      <th>A:21529::Val11fs</th>\n",
       "      <td>0.0</td>\n",
       "      <td>0.0</td>\n",
       "      <td>0.0</td>\n",
       "      <td>0.0</td>\n",
       "      <td>0.0</td>\n",
       "      <td>0.0</td>\n",
       "      <td>0.0</td>\n",
       "      <td>0.0</td>\n",
       "      <td>2.327935</td>\n",
       "      <td>0.0</td>\n",
       "      <td>...</td>\n",
       "      <td>0.0</td>\n",
       "      <td>0.000000</td>\n",
       "      <td>0.0</td>\n",
       "      <td>0.0</td>\n",
       "      <td>0.0</td>\n",
       "      <td>0.0</td>\n",
       "      <td>0.0</td>\n",
       "      <td>0.0</td>\n",
       "      <td>0.0</td>\n",
       "      <td>0.0</td>\n",
       "    </tr>\n",
       "    <tr>\n",
       "      <th>G:21545:T:Val16Phe</th>\n",
       "      <td>0.0</td>\n",
       "      <td>0.0</td>\n",
       "      <td>0.0</td>\n",
       "      <td>0.0</td>\n",
       "      <td>0.0</td>\n",
       "      <td>0.0</td>\n",
       "      <td>0.0</td>\n",
       "      <td>0.0</td>\n",
       "      <td>0.000000</td>\n",
       "      <td>0.0</td>\n",
       "      <td>...</td>\n",
       "      <td>0.0</td>\n",
       "      <td>0.000000</td>\n",
       "      <td>0.0</td>\n",
       "      <td>0.0</td>\n",
       "      <td>0.0</td>\n",
       "      <td>0.0</td>\n",
       "      <td>0.0</td>\n",
       "      <td>0.0</td>\n",
       "      <td>0.0</td>\n",
       "      <td>0.0</td>\n",
       "    </tr>\n",
       "    <tr>\n",
       "      <th>T:21626:C:Phe43Leu</th>\n",
       "      <td>0.0</td>\n",
       "      <td>0.0</td>\n",
       "      <td>0.0</td>\n",
       "      <td>0.0</td>\n",
       "      <td>0.0</td>\n",
       "      <td>0.0</td>\n",
       "      <td>0.0</td>\n",
       "      <td>0.0</td>\n",
       "      <td>0.000000</td>\n",
       "      <td>0.0</td>\n",
       "      <td>...</td>\n",
       "      <td>0.0</td>\n",
       "      <td>1.123596</td>\n",
       "      <td>0.0</td>\n",
       "      <td>0.0</td>\n",
       "      <td>0.0</td>\n",
       "      <td>0.0</td>\n",
       "      <td>0.0</td>\n",
       "      <td>0.0</td>\n",
       "      <td>0.0</td>\n",
       "      <td>0.0</td>\n",
       "    </tr>\n",
       "    <tr>\n",
       "      <th>T:21660:C:Leu54Ser</th>\n",
       "      <td>0.0</td>\n",
       "      <td>0.0</td>\n",
       "      <td>0.0</td>\n",
       "      <td>0.0</td>\n",
       "      <td>0.0</td>\n",
       "      <td>0.0</td>\n",
       "      <td>0.0</td>\n",
       "      <td>0.0</td>\n",
       "      <td>0.000000</td>\n",
       "      <td>0.0</td>\n",
       "      <td>...</td>\n",
       "      <td>0.0</td>\n",
       "      <td>0.000000</td>\n",
       "      <td>0.0</td>\n",
       "      <td>0.0</td>\n",
       "      <td>0.0</td>\n",
       "      <td>0.0</td>\n",
       "      <td>0.0</td>\n",
       "      <td>0.0</td>\n",
       "      <td>0.0</td>\n",
       "      <td>0.0</td>\n",
       "    </tr>\n",
       "  </tbody>\n",
       "</table>\n",
       "<p>5 rows × 34 columns</p>\n",
       "</div>"
      ],
      "text/plain": [
       "                    P-1-NW-1DPC  P-1-NW-3DPC  P-1-NW-4DPC  P-2-NW-1DPC  \\\n",
       "nt                                                                       \n",
       "T:21528:C:Leu10Pro          0.0          0.0          0.0          0.0   \n",
       "A:21529::Val11fs            0.0          0.0          0.0          0.0   \n",
       "G:21545:T:Val16Phe          0.0          0.0          0.0          0.0   \n",
       "T:21626:C:Phe43Leu          0.0          0.0          0.0          0.0   \n",
       "T:21660:C:Leu54Ser          0.0          0.0          0.0          0.0   \n",
       "\n",
       "                    P-2-NW-3DPC  P-3-NW-1DPC  P-3-NW-3DPC  P-3-NW-4DPC  \\\n",
       "nt                                                                       \n",
       "T:21528:C:Leu10Pro          0.0          0.0          0.0          0.0   \n",
       "A:21529::Val11fs            0.0          0.0          0.0          0.0   \n",
       "G:21545:T:Val16Phe          0.0          0.0          0.0          0.0   \n",
       "T:21626:C:Phe43Leu          0.0          0.0          0.0          0.0   \n",
       "T:21660:C:Leu54Ser          0.0          0.0          0.0          0.0   \n",
       "\n",
       "                    P-4-NW-1DPC  P-4-NW-3DPC  ...  NP-9-NW-3DPC  NP-9-NW-4DPC  \\\n",
       "nt                                            ...                               \n",
       "T:21528:C:Leu10Pro     0.000000          0.0  ...           0.0      0.000000   \n",
       "A:21529::Val11fs       2.327935          0.0  ...           0.0      0.000000   \n",
       "G:21545:T:Val16Phe     0.000000          0.0  ...           0.0      0.000000   \n",
       "T:21626:C:Phe43Leu     0.000000          0.0  ...           0.0      1.123596   \n",
       "T:21660:C:Leu54Ser     0.000000          0.0  ...           0.0      0.000000   \n",
       "\n",
       "                    CO-12-NW-1DPC  CO-12-NW-3DPC  CO-12-NW-5DPC  \\\n",
       "nt                                                                \n",
       "T:21528:C:Leu10Pro            0.0            0.0            0.0   \n",
       "A:21529::Val11fs              0.0            0.0            0.0   \n",
       "G:21545:T:Val16Phe            0.0            0.0            0.0   \n",
       "T:21626:C:Phe43Leu            0.0            0.0            0.0   \n",
       "T:21660:C:Leu54Ser            0.0            0.0            0.0   \n",
       "\n",
       "                    CO-16-NW-1DPC  CO-16-NW-3DPC  CO-20-NW-1DPC  \\\n",
       "nt                                                                \n",
       "T:21528:C:Leu10Pro            0.0            0.0            0.0   \n",
       "A:21529::Val11fs              0.0            0.0            0.0   \n",
       "G:21545:T:Val16Phe            0.0            0.0            0.0   \n",
       "T:21626:C:Phe43Leu            0.0            0.0            0.0   \n",
       "T:21660:C:Leu54Ser            0.0            0.0            0.0   \n",
       "\n",
       "                    CO-20-NW-3DPC  CO-20-NW-5DPC  \n",
       "nt                                                \n",
       "T:21528:C:Leu10Pro            0.0            0.0  \n",
       "A:21529::Val11fs              0.0            0.0  \n",
       "G:21545:T:Val16Phe            0.0            0.0  \n",
       "T:21626:C:Phe43Leu            0.0            0.0  \n",
       "T:21660:C:Leu54Ser            0.0            0.0  \n",
       "\n",
       "[5 rows x 34 columns]"
      ]
     },
     "execution_count": 46,
     "metadata": {},
     "output_type": "execute_result"
    }
   ],
   "source": [
    "df.head()"
   ]
  },
  {
   "cell_type": "markdown",
   "id": "a5e036ca",
   "metadata": {},
   "source": [
    "### Clustering using hdbscan"
   ]
  },
  {
   "cell_type": "code",
   "execution_count": 52,
   "id": "6e5e52b7",
   "metadata": {},
   "outputs": [],
   "source": [
    "clusterer = HDBSCAN().fit(df)"
   ]
  },
  {
   "cell_type": "code",
   "execution_count": 76,
   "id": "ba9c75e1",
   "metadata": {},
   "outputs": [],
   "source": [
    "clusterID = pd.Series(clusterer.labels_).apply(lambda x: str(x))"
   ]
  },
  {
   "cell_type": "code",
   "execution_count": 77,
   "id": "35df00c7",
   "metadata": {},
   "outputs": [
    {
     "data": {
      "text/plain": [
       "0      -1\n",
       "1      -1\n",
       "2      -1\n",
       "3       5\n",
       "4      -1\n",
       "       ..\n",
       "126    -1\n",
       "127    -1\n",
       "128    -1\n",
       "129     5\n",
       "130     4\n",
       "Length: 131, dtype: object"
      ]
     },
     "execution_count": 77,
     "metadata": {},
     "output_type": "execute_result"
    }
   ],
   "source": [
    "clusterID"
   ]
  },
  {
   "cell_type": "markdown",
   "id": "b30b78ab",
   "metadata": {},
   "source": [
    "### TSNE projections"
   ]
  },
  {
   "cell_type": "code",
   "execution_count": 47,
   "id": "1727cd97",
   "metadata": {},
   "outputs": [
    {
     "name": "stderr",
     "output_type": "stream",
     "text": [
      "/home/ec2-user/miniconda3/lib/python3.9/site-packages/sklearn/manifold/_t_sne.py:780: FutureWarning:\n",
      "\n",
      "The default initialization in TSNE will change from 'random' to 'pca' in 1.2.\n",
      "\n",
      "/home/ec2-user/miniconda3/lib/python3.9/site-packages/sklearn/manifold/_t_sne.py:790: FutureWarning:\n",
      "\n",
      "The default learning rate in TSNE will change from 200.0 to 'auto' in 1.2.\n",
      "\n"
     ]
    }
   ],
   "source": [
    "tsne = TSNE(n_components = 2, perplexity = 10, random_state = 123)\n",
    "tsne_results = tsne.fit_transform(df)"
   ]
  },
  {
   "cell_type": "code",
   "execution_count": 79,
   "id": "5edf071b",
   "metadata": {},
   "outputs": [],
   "source": [
    "tsne_df = pd.DataFrame({\"tsne-1\": tsne_results[:, 0],\n",
    "                       \"tsne-2\": tsne_results[:, 1], \n",
    "                      \"sampleID\": df.index, \n",
    "                       'AA': AA, \n",
    "                       'clusterID': clusterID})"
   ]
  },
  {
   "cell_type": "code",
   "execution_count": 80,
   "id": "e2505a17",
   "metadata": {},
   "outputs": [],
   "source": [
    "fig = px.scatter(tsne_df, x = \"tsne-1\", y = \"tsne-2\", hover_data = ['sampleID'], height = 600, width = 800, color = 'clusterID' )"
   ]
  },
  {
   "cell_type": "code",
   "execution_count": 81,
   "id": "abf59c38",
   "metadata": {
    "scrolled": false
   },
   "outputs": [
    {
     "data": {
      "image/png": "[encoded data removed]"
     },
     "metadata": {},
     "output_type": "display_data"
    }
   ],
   "source": [
    "fig.show()"
   ]
  },
  {
   "cell_type": "code",
   "execution_count": null,
   "id": "d5be5ccf",
   "metadata": {},
   "outputs": [],
   "source": []
  }
 ],
 "metadata": {
  "kernelspec": {
   "display_name": "Python 3 (ipykernel)",
   "language": "python",
   "name": "python3"
  },
  "language_info": {
   "codemirror_mode": {
    "name": "ipython",
    "version": 3
   },
   "file_extension": ".py",
   "mimetype": "text/x-python",
   "name": "python",
   "nbconvert_exporter": "python",
   "pygments_lexer": "ipython3",
   "version": "3.9.12"
  }
 },
 "nbformat": 4,
 "nbformat_minor": 5
}
