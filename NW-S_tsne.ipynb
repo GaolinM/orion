{
 "cells": [
  {
   "cell_type": "code",
   "execution_count": 1,
   "id": "24782307",
   "metadata": {},
   "outputs": [],
   "source": [
    "import os\n",
    "import json\n",
    "import sys\n",
    "\n",
    "import pandas as pd\n",
    "from sklearn.manifold import TSNE\n",
    "import matplotlib.pyplot as plt\n",
    "import utils\n",
    "import numpy as np\n",
    "import plotly.express as px\n",
    "from sklearn.decomposition import PCA\n",
    "from sklearn.preprocessing import StandardScaler\n",
    "from hdbscan import HDBSCAN\n",
    "\n",
    "import plotly.express as px\n",
    "import plotly.io as pio\n",
    "\n",
    "from plotly import graph_objects as go\n",
    "from plotly.subplots import make_subplots\n",
    "\n",
    "from zca import ZCA\n",
    "# pio.renderers.default = 'notebook_connected' # set to 'svg' or 'png' for static plots\n",
    "pio.renderers.default = 'png'"
   ]
  },
  {
   "cell_type": "markdown",
   "id": "88bb2033",
   "metadata": {},
   "source": [
    "### Read data"
   ]
  },
  {
   "cell_type": "code",
   "execution_count": 2,
   "id": "5a19f9cc",
   "metadata": {},
   "outputs": [],
   "source": [
    "df = pd.read_csv(\"NW-S_tsne.txt\", sep = \"\\t\")"
   ]
  },
  {
   "cell_type": "code",
   "execution_count": 3,
   "id": "a39899eb",
   "metadata": {},
   "outputs": [],
   "source": [
    "df = df.fillna(0).T"
   ]
  },
  {
   "cell_type": "code",
   "execution_count": 5,
   "id": "c940fa88",
   "metadata": {},
   "outputs": [
    {
     "name": "stdout",
     "output_type": "stream",
     "text": [
      "(35, 131)\n",
      "5.916079783099616\n"
     ]
    }
   ],
   "source": [
    "print(df.shape)\n",
    "print(np.sqrt(35))"
   ]
  },
  {
   "cell_type": "code",
   "execution_count": 7,
   "id": "74affdff",
   "metadata": {},
   "outputs": [],
   "source": [
    "df.columns = df.loc['nt']"
   ]
  },
  {
   "cell_type": "code",
   "execution_count": 9,
   "id": "f2774b8d",
   "metadata": {},
   "outputs": [],
   "source": [
    "df = df.iloc[1:, :]"
   ]
  },
  {
   "cell_type": "code",
   "execution_count": 12,
   "id": "70f774ae",
   "metadata": {},
   "outputs": [
    {
     "data": {
      "text/plain": [
       "Index(['T:21528:C:Leu10Pro', 'A:21529::Val11fs', 'G:21545:T:Val16Phe',\n",
       "       'T:21626:C:Phe43Leu', 'T:21660:C:Leu54Ser', 'T:21671:C:Phe58Leu',\n",
       "       'T:21689:A:Trp64Arg', 'A:21696:G:His66Arg', 'G:21698:T:Ala67Ser',\n",
       "       ':21713:A:Asn72fs',\n",
       "       ...\n",
       "       'T:24945:C:Leu1149Ser', ':25029:A:Glu1179fs', 'G:25094:C:Glu1199Gln',\n",
       "       'A:25104:G:Lys1202Arg', 'T:25124:C:Trp1209Arg', 'G:25145:T:Gly1216Cys',\n",
       "       'T:25191:C:Leu1231Pro', 'G:25206:C:Ser1236Thr', 'G:25251:C:Cys1251Ser',\n",
       "       'G:25268:T:Asp1257Tyr'],\n",
       "      dtype='object', name='nt', length=131)"
      ]
     },
     "execution_count": 12,
     "metadata": {},
     "output_type": "execute_result"
    }
   ],
   "source": [
    "df.columns"
   ]
  },
  {
   "cell_type": "code",
   "execution_count": 13,
   "id": "8ba9bf86",
   "metadata": {},
   "outputs": [
    {
     "data": {
      "text/html": [
       "<div>\n",
       "<style scoped>\n",
       "    .dataframe tbody tr th:only-of-type {\n",
       "        vertical-align: middle;\n",
       "    }\n",
       "\n",
       "    .dataframe tbody tr th {\n",
       "        vertical-align: top;\n",
       "    }\n",
       "\n",
       "    .dataframe thead th {\n",
       "        text-align: right;\n",
       "    }\n",
       "</style>\n",
       "<table border=\"1\" class=\"dataframe\">\n",
       "  <thead>\n",
       "    <tr style=\"text-align: right;\">\n",
       "      <th>nt</th>\n",
       "      <th>T:21528:C:Leu10Pro</th>\n",
       "      <th>A:21529::Val11fs</th>\n",
       "      <th>G:21545:T:Val16Phe</th>\n",
       "      <th>T:21626:C:Phe43Leu</th>\n",
       "      <th>T:21660:C:Leu54Ser</th>\n",
       "      <th>T:21671:C:Phe58Leu</th>\n",
       "      <th>T:21689:A:Trp64Arg</th>\n",
       "      <th>A:21696:G:His66Arg</th>\n",
       "      <th>G:21698:T:Ala67Ser</th>\n",
       "      <th>:21713:A:Asn72fs</th>\n",
       "      <th>...</th>\n",
       "      <th>T:24945:C:Leu1149Ser</th>\n",
       "      <th>:25029:A:Glu1179fs</th>\n",
       "      <th>G:25094:C:Glu1199Gln</th>\n",
       "      <th>A:25104:G:Lys1202Arg</th>\n",
       "      <th>T:25124:C:Trp1209Arg</th>\n",
       "      <th>G:25145:T:Gly1216Cys</th>\n",
       "      <th>T:25191:C:Leu1231Pro</th>\n",
       "      <th>G:25206:C:Ser1236Thr</th>\n",
       "      <th>G:25251:C:Cys1251Ser</th>\n",
       "      <th>G:25268:T:Asp1257Tyr</th>\n",
       "    </tr>\n",
       "  </thead>\n",
       "  <tbody>\n",
       "    <tr>\n",
       "      <th>P-1-NW-1DPC</th>\n",
       "      <td>0.0</td>\n",
       "      <td>0.0</td>\n",
       "      <td>0.0</td>\n",
       "      <td>0.0</td>\n",
       "      <td>0.0</td>\n",
       "      <td>0.0</td>\n",
       "      <td>0.0</td>\n",
       "      <td>0.0</td>\n",
       "      <td>0.0</td>\n",
       "      <td>0.0</td>\n",
       "      <td>...</td>\n",
       "      <td>0.0</td>\n",
       "      <td>0.0</td>\n",
       "      <td>0.0</td>\n",
       "      <td>0.0</td>\n",
       "      <td>0.0</td>\n",
       "      <td>0.0</td>\n",
       "      <td>0.0</td>\n",
       "      <td>0.0</td>\n",
       "      <td>0.0</td>\n",
       "      <td>0.0</td>\n",
       "    </tr>\n",
       "    <tr>\n",
       "      <th>P-1-NW-3DPC</th>\n",
       "      <td>0.0</td>\n",
       "      <td>0.0</td>\n",
       "      <td>0.0</td>\n",
       "      <td>0.0</td>\n",
       "      <td>0.0</td>\n",
       "      <td>0.0</td>\n",
       "      <td>0.0</td>\n",
       "      <td>0.0</td>\n",
       "      <td>0.0</td>\n",
       "      <td>0.0</td>\n",
       "      <td>...</td>\n",
       "      <td>0.0</td>\n",
       "      <td>0.0</td>\n",
       "      <td>0.0</td>\n",
       "      <td>0.0</td>\n",
       "      <td>0.0</td>\n",
       "      <td>1.082251</td>\n",
       "      <td>0.0</td>\n",
       "      <td>0.0</td>\n",
       "      <td>0.0</td>\n",
       "      <td>0.0</td>\n",
       "    </tr>\n",
       "    <tr>\n",
       "      <th>P-1-NW-4DPC</th>\n",
       "      <td>0.0</td>\n",
       "      <td>0.0</td>\n",
       "      <td>0.0</td>\n",
       "      <td>0.0</td>\n",
       "      <td>0.0</td>\n",
       "      <td>0.0</td>\n",
       "      <td>1.590984</td>\n",
       "      <td>0.0</td>\n",
       "      <td>0.0</td>\n",
       "      <td>0.0</td>\n",
       "      <td>...</td>\n",
       "      <td>0.0</td>\n",
       "      <td>0.0</td>\n",
       "      <td>0.0</td>\n",
       "      <td>0.0</td>\n",
       "      <td>0.0</td>\n",
       "      <td>0.0</td>\n",
       "      <td>2.640845</td>\n",
       "      <td>0.0</td>\n",
       "      <td>0.0</td>\n",
       "      <td>0.0</td>\n",
       "    </tr>\n",
       "    <tr>\n",
       "      <th>P-2-NW-1DPC</th>\n",
       "      <td>0.0</td>\n",
       "      <td>0.0</td>\n",
       "      <td>0.0</td>\n",
       "      <td>0.0</td>\n",
       "      <td>0.0</td>\n",
       "      <td>0.0</td>\n",
       "      <td>0.0</td>\n",
       "      <td>0.0</td>\n",
       "      <td>0.0</td>\n",
       "      <td>0.0</td>\n",
       "      <td>...</td>\n",
       "      <td>0.0</td>\n",
       "      <td>0.0</td>\n",
       "      <td>0.0</td>\n",
       "      <td>0.0</td>\n",
       "      <td>0.0</td>\n",
       "      <td>0.0</td>\n",
       "      <td>0.0</td>\n",
       "      <td>0.0</td>\n",
       "      <td>0.0</td>\n",
       "      <td>0.0</td>\n",
       "    </tr>\n",
       "    <tr>\n",
       "      <th>P-2-NW-3DPC</th>\n",
       "      <td>0.0</td>\n",
       "      <td>0.0</td>\n",
       "      <td>0.0</td>\n",
       "      <td>0.0</td>\n",
       "      <td>0.0</td>\n",
       "      <td>0.0</td>\n",
       "      <td>0.0</td>\n",
       "      <td>0.0</td>\n",
       "      <td>0.0</td>\n",
       "      <td>0.0</td>\n",
       "      <td>...</td>\n",
       "      <td>0.0</td>\n",
       "      <td>0.0</td>\n",
       "      <td>0.0</td>\n",
       "      <td>0.0</td>\n",
       "      <td>0.0</td>\n",
       "      <td>0.0</td>\n",
       "      <td>0.0</td>\n",
       "      <td>0.0</td>\n",
       "      <td>0.0</td>\n",
       "      <td>0.0</td>\n",
       "    </tr>\n",
       "  </tbody>\n",
       "</table>\n",
       "<p>5 rows × 131 columns</p>\n",
       "</div>"
      ],
      "text/plain": [
       "nt          T:21528:C:Leu10Pro A:21529::Val11fs G:21545:T:Val16Phe  \\\n",
       "P-1-NW-1DPC                0.0              0.0                0.0   \n",
       "P-1-NW-3DPC                0.0              0.0                0.0   \n",
       "P-1-NW-4DPC                0.0              0.0                0.0   \n",
       "P-2-NW-1DPC                0.0              0.0                0.0   \n",
       "P-2-NW-3DPC                0.0              0.0                0.0   \n",
       "\n",
       "nt          T:21626:C:Phe43Leu T:21660:C:Leu54Ser T:21671:C:Phe58Leu  \\\n",
       "P-1-NW-1DPC                0.0                0.0                0.0   \n",
       "P-1-NW-3DPC                0.0                0.0                0.0   \n",
       "P-1-NW-4DPC                0.0                0.0                0.0   \n",
       "P-2-NW-1DPC                0.0                0.0                0.0   \n",
       "P-2-NW-3DPC                0.0                0.0                0.0   \n",
       "\n",
       "nt          T:21689:A:Trp64Arg A:21696:G:His66Arg G:21698:T:Ala67Ser  \\\n",
       "P-1-NW-1DPC                0.0                0.0                0.0   \n",
       "P-1-NW-3DPC                0.0                0.0                0.0   \n",
       "P-1-NW-4DPC           1.590984                0.0                0.0   \n",
       "P-2-NW-1DPC                0.0                0.0                0.0   \n",
       "P-2-NW-3DPC                0.0                0.0                0.0   \n",
       "\n",
       "nt          :21713:A:Asn72fs  ... T:24945:C:Leu1149Ser :25029:A:Glu1179fs  \\\n",
       "P-1-NW-1DPC              0.0  ...                  0.0                0.0   \n",
       "P-1-NW-3DPC              0.0  ...                  0.0                0.0   \n",
       "P-1-NW-4DPC              0.0  ...                  0.0                0.0   \n",
       "P-2-NW-1DPC              0.0  ...                  0.0                0.0   \n",
       "P-2-NW-3DPC              0.0  ...                  0.0                0.0   \n",
       "\n",
       "nt          G:25094:C:Glu1199Gln A:25104:G:Lys1202Arg T:25124:C:Trp1209Arg  \\\n",
       "P-1-NW-1DPC                  0.0                  0.0                  0.0   \n",
       "P-1-NW-3DPC                  0.0                  0.0                  0.0   \n",
       "P-1-NW-4DPC                  0.0                  0.0                  0.0   \n",
       "P-2-NW-1DPC                  0.0                  0.0                  0.0   \n",
       "P-2-NW-3DPC                  0.0                  0.0                  0.0   \n",
       "\n",
       "nt          G:25145:T:Gly1216Cys T:25191:C:Leu1231Pro G:25206:C:Ser1236Thr  \\\n",
       "P-1-NW-1DPC                  0.0                  0.0                  0.0   \n",
       "P-1-NW-3DPC             1.082251                  0.0                  0.0   \n",
       "P-1-NW-4DPC                  0.0             2.640845                  0.0   \n",
       "P-2-NW-1DPC                  0.0                  0.0                  0.0   \n",
       "P-2-NW-3DPC                  0.0                  0.0                  0.0   \n",
       "\n",
       "nt          G:25251:C:Cys1251Ser G:25268:T:Asp1257Tyr  \n",
       "P-1-NW-1DPC                  0.0                  0.0  \n",
       "P-1-NW-3DPC                  0.0                  0.0  \n",
       "P-1-NW-4DPC                  0.0                  0.0  \n",
       "P-2-NW-1DPC                  0.0                  0.0  \n",
       "P-2-NW-3DPC                  0.0                  0.0  \n",
       "\n",
       "[5 rows x 131 columns]"
      ]
     },
     "execution_count": 13,
     "metadata": {},
     "output_type": "execute_result"
    }
   ],
   "source": [
    "df.head()"
   ]
  },
  {
   "cell_type": "code",
   "execution_count": 54,
   "id": "294b8eee",
   "metadata": {},
   "outputs": [],
   "source": [
    "location = pd.Series(df.index).map(lambda x: '-'.join(x.split('-')[:1]))"
   ]
  },
  {
   "cell_type": "code",
   "execution_count": 55,
   "id": "f7f27478",
   "metadata": {},
   "outputs": [
    {
     "data": {
      "text/plain": [
       "0      P\n",
       "1      P\n",
       "2      P\n",
       "3      P\n",
       "4      P\n",
       "5      P\n",
       "6      P\n",
       "7      P\n",
       "8      P\n",
       "9      P\n",
       "10     P\n",
       "11     P\n",
       "12     P\n",
       "13     P\n",
       "14     P\n",
       "15    NP\n",
       "16    NP\n",
       "17    NP\n",
       "18    NP\n",
       "19    NP\n",
       "20    NP\n",
       "21    NP\n",
       "22    NP\n",
       "23    NP\n",
       "24    NP\n",
       "25    NP\n",
       "26    CO\n",
       "27    CO\n",
       "28    CO\n",
       "29    CO\n",
       "30    CO\n",
       "31    CO\n",
       "32    CO\n",
       "33    CO\n",
       "dtype: object"
      ]
     },
     "execution_count": 55,
     "metadata": {},
     "output_type": "execute_result"
    }
   ],
   "source": [
    "location"
   ]
  },
  {
   "cell_type": "markdown",
   "id": "a877381f",
   "metadata": {},
   "source": [
    "### Clustering using hdbscan"
   ]
  },
  {
   "cell_type": "code",
   "execution_count": 17,
   "id": "8dd56347",
   "metadata": {},
   "outputs": [],
   "source": [
    "clusterer = HDBSCAN().fit(df)"
   ]
  },
  {
   "cell_type": "code",
   "execution_count": 18,
   "id": "93d7baa3",
   "metadata": {},
   "outputs": [],
   "source": [
    "clusterID = pd.Series(clusterer.labels_).apply(lambda x: str(x))"
   ]
  },
  {
   "cell_type": "code",
   "execution_count": 21,
   "id": "67bc64d9",
   "metadata": {},
   "outputs": [
    {
     "data": {
      "text/plain": [
       "array([-1, -1, -1, -1, -1, -1, -1, -1, -1, -1, -1, -1, -1, -1, -1, -1, -1,\n",
       "       -1, -1, -1, -1, -1, -1, -1, -1, -1, -1, -1, -1, -1, -1, -1, -1, -1])"
      ]
     },
     "execution_count": 21,
     "metadata": {},
     "output_type": "execute_result"
    }
   ],
   "source": [
    "clusterer.labels_"
   ]
  },
  {
   "cell_type": "markdown",
   "id": "b30b78ab",
   "metadata": {},
   "source": [
    "### TSNE projections"
   ]
  },
  {
   "cell_type": "code",
   "execution_count": 22,
   "id": "1727cd97",
   "metadata": {},
   "outputs": [
    {
     "name": "stderr",
     "output_type": "stream",
     "text": [
      "/home/ec2-user/miniconda3/lib/python3.9/site-packages/sklearn/manifold/_t_sne.py:780: FutureWarning:\n",
      "\n",
      "The default initialization in TSNE will change from 'random' to 'pca' in 1.2.\n",
      "\n",
      "/home/ec2-user/miniconda3/lib/python3.9/site-packages/sklearn/manifold/_t_sne.py:790: FutureWarning:\n",
      "\n",
      "The default learning rate in TSNE will change from 200.0 to 'auto' in 1.2.\n",
      "\n"
     ]
    }
   ],
   "source": [
    "tsne = TSNE(n_components = 2, perplexity = 10, random_state = 123)\n",
    "tsne_results = tsne.fit_transform(df)"
   ]
  },
  {
   "cell_type": "code",
   "execution_count": 56,
   "id": "5edf071b",
   "metadata": {},
   "outputs": [],
   "source": [
    "tsne_df = pd.DataFrame({\"tsne-1\": tsne_results[:, 0],\n",
    "                       \"tsne-2\": tsne_results[:, 1], \n",
    "                      \"sampleID\": df.index, \n",
    "                       'locale': location})"
   ]
  },
  {
   "cell_type": "code",
   "execution_count": 57,
   "id": "e2505a17",
   "metadata": {},
   "outputs": [],
   "source": [
    "fig = px.scatter(tsne_df, x = \"tsne-1\", y = \"tsne-2\", hover_data = ['sampleID'], color = 'locale', height = 600, width = 800)"
   ]
  },
  {
   "cell_type": "code",
   "execution_count": 58,
   "id": "abf59c38",
   "metadata": {
    "scrolled": false
   },
   "outputs": [
    {
     "data": {
      "text/html": [
       "<div>                            <div id=\"0a5cbf61-3b65-400f-afe6-4ee103c7cead\" class=\"plotly-graph-div\" style=\"height:600px; width:800px;\"></div>            <script type=\"text/javascript\">                require([\"plotly\"], function(Plotly) {                    window.PLOTLYENV=window.PLOTLYENV || {};                                    if (document.getElementById(\"0a5cbf61-3b65-400f-afe6-4ee103c7cead\")) {                    Plotly.newPlot(                        \"0a5cbf61-3b65-400f-afe6-4ee103c7cead\",                        [{\"customdata\":[[\"P-1-NW-1DPC\"],[\"P-1-NW-3DPC\"],[\"P-1-NW-4DPC\"],[\"P-2-NW-1DPC\"],[\"P-2-NW-3DPC\"],[\"P-3-NW-1DPC\"],[\"P-3-NW-3DPC\"],[\"P-3-NW-4DPC\"],[\"P-4-NW-1DPC\"],[\"P-4-NW-3DPC\"],[\"P-4-NW-4DPC\"],[\"P-5-NW-3DPC\"],[\"P-5-NW-5DPC\"],[\"P-6-NW-1DPC\"],[\"P-6-NW-5DPC\"]],\"hovertemplate\":\"locale=P<br>tsne-1=%{x}<br>tsne-2=%{y}<br>sampleID=%{customdata[0]}<extra></extra>\",\"legendgroup\":\"P\",\"marker\":{\"color\":\"#636efa\",\"symbol\":\"circle\"},\"mode\":\"markers\",\"name\":\"P\",\"orientation\":\"v\",\"showlegend\":true,\"x\":[-224.059,-3.5646398,-52.005974,141.196,-161.55998,119.30585,92.376,-68.05167,186.35449,-129.31735,-140.47906,-26.360018,81.81752,-265.54953,93.158875],\"xaxis\":\"x\",\"y\":[-26.764933,42.593143,-105.581635,-66.605156,25.616243,75.775055,-21.286226,19.930504,-136.57869,-116.24665,-80.20656,175.00302,22.257238,99.943535,-206.07034],\"yaxis\":\"y\",\"type\":\"scatter\"},{\"customdata\":[[\"NP-10-NW-3DPC\"],[\"NP-10-NW-4DPC\"],[\"NP-14-NW-3DPC\"],[\"NP-15-NW-3DPC\"],[\"NP-15-NW-5DPC\"],[\"NP-15-NW-7DPC\"],[\"NP-17-NW-5DPC\"],[\"NP-18-NW-3DPC\"],[\"NP-9-NW-1DPC\"],[\"NP-9-NW-3DPC\"],[\"NP-9-NW-4DPC\"]],\"hovertemplate\":\"locale=NP<br>tsne-1=%{x}<br>tsne-2=%{y}<br>sampleID=%{customdata[0]}<extra></extra>\",\"legendgroup\":\"NP\",\"marker\":{\"color\":\"#EF553B\",\"symbol\":\"circle\"},\"mode\":\"markers\",\"name\":\"NP\",\"orientation\":\"v\",\"showlegend\":true,\"x\":[19.128405,-156.3388,149.62666,-0.36916247,39.961155,67.621475,-33.716675,211.02222,-257.05557,47.514282,221.32182],\"xaxis\":\"x\",\"y\":[-91.642044,77.20611,154.5352,-173.40285,25.634327,-61.217808,-36.9564,68.60429,52.533897,78.624084,-32.165283],\"yaxis\":\"y\",\"type\":\"scatter\"},{\"customdata\":[[\"CO-12-NW-1DPC\"],[\"CO-12-NW-3DPC\"],[\"CO-12-NW-5DPC\"],[\"CO-16-NW-1DPC\"],[\"CO-16-NW-3DPC\"],[\"CO-20-NW-1DPC\"],[\"CO-20-NW-3DPC\"],[\"CO-20-NW-5DPC\"]],\"hovertemplate\":\"locale=CO<br>tsne-1=%{x}<br>tsne-2=%{y}<br>sampleID=%{customdata[0]}<extra></extra>\",\"legendgroup\":\"CO\",\"marker\":{\"color\":\"#00cc96\",\"symbol\":\"circle\"},\"mode\":\"markers\",\"name\":\"CO\",\"orientation\":\"v\",\"showlegend\":true,\"x\":[21.812857,148.49278,87.56605,51.192177,-217.59567,6.4577527,-34.140644,58.98784],\"xaxis\":\"x\",\"y\":[-42.90001,9.443496,-124.58489,-14.3523855,27.431795,-3.4190779,91.50288,147.60777],\"yaxis\":\"y\",\"type\":\"scatter\"}],                        {\"template\":{\"data\":{\"histogram2dcontour\":[{\"type\":\"histogram2dcontour\",\"colorbar\":{\"outlinewidth\":0,\"ticks\":\"\"},\"colorscale\":[[0.0,\"#0d0887\"],[0.1111111111111111,\"#46039f\"],[0.2222222222222222,\"#7201a8\"],[0.3333333333333333,\"#9c179e\"],[0.4444444444444444,\"#bd3786\"],[0.5555555555555556,\"#d8576b\"],[0.6666666666666666,\"#ed7953\"],[0.7777777777777778,\"#fb9f3a\"],[0.8888888888888888,\"#fdca26\"],[1.0,\"#f0f921\"]]}],\"choropleth\":[{\"type\":\"choropleth\",\"colorbar\":{\"outlinewidth\":0,\"ticks\":\"\"}}],\"histogram2d\":[{\"type\":\"histogram2d\",\"colorbar\":{\"outlinewidth\":0,\"ticks\":\"\"},\"colorscale\":[[0.0,\"#0d0887\"],[0.1111111111111111,\"#46039f\"],[0.2222222222222222,\"#7201a8\"],[0.3333333333333333,\"#9c179e\"],[0.4444444444444444,\"#bd3786\"],[0.5555555555555556,\"#d8576b\"],[0.6666666666666666,\"#ed7953\"],[0.7777777777777778,\"#fb9f3a\"],[0.8888888888888888,\"#fdca26\"],[1.0,\"#f0f921\"]]}],\"heatmap\":[{\"type\":\"heatmap\",\"colorbar\":{\"outlinewidth\":0,\"ticks\":\"\"},\"colorscale\":[[0.0,\"#0d0887\"],[0.1111111111111111,\"#46039f\"],[0.2222222222222222,\"#7201a8\"],[0.3333333333333333,\"#9c179e\"],[0.4444444444444444,\"#bd3786\"],[0.5555555555555556,\"#d8576b\"],[0.6666666666666666,\"#ed7953\"],[0.7777777777777778,\"#fb9f3a\"],[0.8888888888888888,\"#fdca26\"],[1.0,\"#f0f921\"]]}],\"heatmapgl\":[{\"type\":\"heatmapgl\",\"colorbar\":{\"outlinewidth\":0,\"ticks\":\"\"},\"colorscale\":[[0.0,\"#0d0887\"],[0.1111111111111111,\"#46039f\"],[0.2222222222222222,\"#7201a8\"],[0.3333333333333333,\"#9c179e\"],[0.4444444444444444,\"#bd3786\"],[0.5555555555555556,\"#d8576b\"],[0.6666666666666666,\"#ed7953\"],[0.7777777777777778,\"#fb9f3a\"],[0.8888888888888888,\"#fdca26\"],[1.0,\"#f0f921\"]]}],\"contourcarpet\":[{\"type\":\"contourcarpet\",\"colorbar\":{\"outlinewidth\":0,\"ticks\":\"\"}}],\"contour\":[{\"type\":\"contour\",\"colorbar\":{\"outlinewidth\":0,\"ticks\":\"\"},\"colorscale\":[[0.0,\"#0d0887\"],[0.1111111111111111,\"#46039f\"],[0.2222222222222222,\"#7201a8\"],[0.3333333333333333,\"#9c179e\"],[0.4444444444444444,\"#bd3786\"],[0.5555555555555556,\"#d8576b\"],[0.6666666666666666,\"#ed7953\"],[0.7777777777777778,\"#fb9f3a\"],[0.8888888888888888,\"#fdca26\"],[1.0,\"#f0f921\"]]}],\"surface\":[{\"type\":\"surface\",\"colorbar\":{\"outlinewidth\":0,\"ticks\":\"\"},\"colorscale\":[[0.0,\"#0d0887\"],[0.1111111111111111,\"#46039f\"],[0.2222222222222222,\"#7201a8\"],[0.3333333333333333,\"#9c179e\"],[0.4444444444444444,\"#bd3786\"],[0.5555555555555556,\"#d8576b\"],[0.6666666666666666,\"#ed7953\"],[0.7777777777777778,\"#fb9f3a\"],[0.8888888888888888,\"#fdca26\"],[1.0,\"#f0f921\"]]}],\"mesh3d\":[{\"type\":\"mesh3d\",\"colorbar\":{\"outlinewidth\":0,\"ticks\":\"\"}}],\"scatter\":[{\"fillpattern\":{\"fillmode\":\"overlay\",\"size\":10,\"solidity\":0.2},\"type\":\"scatter\"}],\"parcoords\":[{\"type\":\"parcoords\",\"line\":{\"colorbar\":{\"outlinewidth\":0,\"ticks\":\"\"}}}],\"scatterpolargl\":[{\"type\":\"scatterpolargl\",\"marker\":{\"colorbar\":{\"outlinewidth\":0,\"ticks\":\"\"}}}],\"bar\":[{\"error_x\":{\"color\":\"#2a3f5f\"},\"error_y\":{\"color\":\"#2a3f5f\"},\"marker\":{\"line\":{\"color\":\"#E5ECF6\",\"width\":0.5},\"pattern\":{\"fillmode\":\"overlay\",\"size\":10,\"solidity\":0.2}},\"type\":\"bar\"}],\"scattergeo\":[{\"type\":\"scattergeo\",\"marker\":{\"colorbar\":{\"outlinewidth\":0,\"ticks\":\"\"}}}],\"scatterpolar\":[{\"type\":\"scatterpolar\",\"marker\":{\"colorbar\":{\"outlinewidth\":0,\"ticks\":\"\"}}}],\"histogram\":[{\"marker\":{\"pattern\":{\"fillmode\":\"overlay\",\"size\":10,\"solidity\":0.2}},\"type\":\"histogram\"}],\"scattergl\":[{\"type\":\"scattergl\",\"marker\":{\"colorbar\":{\"outlinewidth\":0,\"ticks\":\"\"}}}],\"scatter3d\":[{\"type\":\"scatter3d\",\"line\":{\"colorbar\":{\"outlinewidth\":0,\"ticks\":\"\"}},\"marker\":{\"colorbar\":{\"outlinewidth\":0,\"ticks\":\"\"}}}],\"scattermapbox\":[{\"type\":\"scattermapbox\",\"marker\":{\"colorbar\":{\"outlinewidth\":0,\"ticks\":\"\"}}}],\"scatterternary\":[{\"type\":\"scatterternary\",\"marker\":{\"colorbar\":{\"outlinewidth\":0,\"ticks\":\"\"}}}],\"scattercarpet\":[{\"type\":\"scattercarpet\",\"marker\":{\"colorbar\":{\"outlinewidth\":0,\"ticks\":\"\"}}}],\"carpet\":[{\"aaxis\":{\"endlinecolor\":\"#2a3f5f\",\"gridcolor\":\"white\",\"linecolor\":\"white\",\"minorgridcolor\":\"white\",\"startlinecolor\":\"#2a3f5f\"},\"baxis\":{\"endlinecolor\":\"#2a3f5f\",\"gridcolor\":\"white\",\"linecolor\":\"white\",\"minorgridcolor\":\"white\",\"startlinecolor\":\"#2a3f5f\"},\"type\":\"carpet\"}],\"table\":[{\"cells\":{\"fill\":{\"color\":\"#EBF0F8\"},\"line\":{\"color\":\"white\"}},\"header\":{\"fill\":{\"color\":\"#C8D4E3\"},\"line\":{\"color\":\"white\"}},\"type\":\"table\"}],\"barpolar\":[{\"marker\":{\"line\":{\"color\":\"#E5ECF6\",\"width\":0.5},\"pattern\":{\"fillmode\":\"overlay\",\"size\":10,\"solidity\":0.2}},\"type\":\"barpolar\"}],\"pie\":[{\"automargin\":true,\"type\":\"pie\"}]},\"layout\":{\"autotypenumbers\":\"strict\",\"colorway\":[\"#636efa\",\"#EF553B\",\"#00cc96\",\"#ab63fa\",\"#FFA15A\",\"#19d3f3\",\"#FF6692\",\"#B6E880\",\"#FF97FF\",\"#FECB52\"],\"font\":{\"color\":\"#2a3f5f\"},\"hovermode\":\"closest\",\"hoverlabel\":{\"align\":\"left\"},\"paper_bgcolor\":\"white\",\"plot_bgcolor\":\"#E5ECF6\",\"polar\":{\"bgcolor\":\"#E5ECF6\",\"angularaxis\":{\"gridcolor\":\"white\",\"linecolor\":\"white\",\"ticks\":\"\"},\"radialaxis\":{\"gridcolor\":\"white\",\"linecolor\":\"white\",\"ticks\":\"\"}},\"ternary\":{\"bgcolor\":\"#E5ECF6\",\"aaxis\":{\"gridcolor\":\"white\",\"linecolor\":\"white\",\"ticks\":\"\"},\"baxis\":{\"gridcolor\":\"white\",\"linecolor\":\"white\",\"ticks\":\"\"},\"caxis\":{\"gridcolor\":\"white\",\"linecolor\":\"white\",\"ticks\":\"\"}},\"coloraxis\":{\"colorbar\":{\"outlinewidth\":0,\"ticks\":\"\"}},\"colorscale\":{\"sequential\":[[0.0,\"#0d0887\"],[0.1111111111111111,\"#46039f\"],[0.2222222222222222,\"#7201a8\"],[0.3333333333333333,\"#9c179e\"],[0.4444444444444444,\"#bd3786\"],[0.5555555555555556,\"#d8576b\"],[0.6666666666666666,\"#ed7953\"],[0.7777777777777778,\"#fb9f3a\"],[0.8888888888888888,\"#fdca26\"],[1.0,\"#f0f921\"]],\"sequentialminus\":[[0.0,\"#0d0887\"],[0.1111111111111111,\"#46039f\"],[0.2222222222222222,\"#7201a8\"],[0.3333333333333333,\"#9c179e\"],[0.4444444444444444,\"#bd3786\"],[0.5555555555555556,\"#d8576b\"],[0.6666666666666666,\"#ed7953\"],[0.7777777777777778,\"#fb9f3a\"],[0.8888888888888888,\"#fdca26\"],[1.0,\"#f0f921\"]],\"diverging\":[[0,\"#8e0152\"],[0.1,\"#c51b7d\"],[0.2,\"#de77ae\"],[0.3,\"#f1b6da\"],[0.4,\"#fde0ef\"],[0.5,\"#f7f7f7\"],[0.6,\"#e6f5d0\"],[0.7,\"#b8e186\"],[0.8,\"#7fbc41\"],[0.9,\"#4d9221\"],[1,\"#276419\"]]},\"xaxis\":{\"gridcolor\":\"white\",\"linecolor\":\"white\",\"ticks\":\"\",\"title\":{\"standoff\":15},\"zerolinecolor\":\"white\",\"automargin\":true,\"zerolinewidth\":2},\"yaxis\":{\"gridcolor\":\"white\",\"linecolor\":\"white\",\"ticks\":\"\",\"title\":{\"standoff\":15},\"zerolinecolor\":\"white\",\"automargin\":true,\"zerolinewidth\":2},\"scene\":{\"xaxis\":{\"backgroundcolor\":\"#E5ECF6\",\"gridcolor\":\"white\",\"linecolor\":\"white\",\"showbackground\":true,\"ticks\":\"\",\"zerolinecolor\":\"white\",\"gridwidth\":2},\"yaxis\":{\"backgroundcolor\":\"#E5ECF6\",\"gridcolor\":\"white\",\"linecolor\":\"white\",\"showbackground\":true,\"ticks\":\"\",\"zerolinecolor\":\"white\",\"gridwidth\":2},\"zaxis\":{\"backgroundcolor\":\"#E5ECF6\",\"gridcolor\":\"white\",\"linecolor\":\"white\",\"showbackground\":true,\"ticks\":\"\",\"zerolinecolor\":\"white\",\"gridwidth\":2}},\"shapedefaults\":{\"line\":{\"color\":\"#2a3f5f\"}},\"annotationdefaults\":{\"arrowcolor\":\"#2a3f5f\",\"arrowhead\":0,\"arrowwidth\":1},\"geo\":{\"bgcolor\":\"white\",\"landcolor\":\"#E5ECF6\",\"subunitcolor\":\"white\",\"showland\":true,\"showlakes\":true,\"lakecolor\":\"white\"},\"title\":{\"x\":0.05},\"mapbox\":{\"style\":\"light\"}}},\"xaxis\":{\"anchor\":\"y\",\"domain\":[0.0,1.0],\"title\":{\"text\":\"tsne-1\"}},\"yaxis\":{\"anchor\":\"x\",\"domain\":[0.0,1.0],\"title\":{\"text\":\"tsne-2\"}},\"legend\":{\"title\":{\"text\":\"locale\"},\"tracegroupgap\":0},\"margin\":{\"t\":60},\"height\":600,\"width\":800},                        {\"responsive\": true}                    ).then(function(){\n",
       "                            \n",
       "var gd = document.getElementById('0a5cbf61-3b65-400f-afe6-4ee103c7cead');\n",
       "var x = new MutationObserver(function (mutations, observer) {{\n",
       "        var display = window.getComputedStyle(gd).display;\n",
       "        if (!display || display === 'none') {{\n",
       "            console.log([gd, 'removed!']);\n",
       "            Plotly.purge(gd);\n",
       "            observer.disconnect();\n",
       "        }}\n",
       "}});\n",
       "\n",
       "// Listen for the removal of the full notebook cells\n",
       "var notebookContainer = gd.closest('#notebook-container');\n",
       "if (notebookContainer) {{\n",
       "    x.observe(notebookContainer, {childList: true});\n",
       "}}\n",
       "\n",
       "// Listen for the clearing of the current output cell\n",
       "var outputEl = gd.closest('.output');\n",
       "if (outputEl) {{\n",
       "    x.observe(outputEl, {childList: true});\n",
       "}}\n",
       "\n",
       "                        })                };                });            </script>        </div>"
      ]
     },
     "metadata": {},
     "output_type": "display_data"
    }
   ],
   "source": [
    "fig.show()"
   ]
  },
  {
   "cell_type": "markdown",
   "id": "bdaa7941",
   "metadata": {},
   "source": [
    "### UMAP projections"
   ]
  },
  {
   "cell_type": "code",
   "execution_count": 47,
   "id": "bf09997d",
   "metadata": {},
   "outputs": [],
   "source": [
    "from umap import UMAP"
   ]
  },
  {
   "cell_type": "code",
   "execution_count": 48,
   "id": "183e9341",
   "metadata": {},
   "outputs": [],
   "source": [
    "umap_2d = UMAP(n_components = 2, random_state = 123).fit_transform(df)"
   ]
  },
  {
   "cell_type": "code",
   "execution_count": 59,
   "id": "ca5c5923",
   "metadata": {},
   "outputs": [],
   "source": [
    "umap_df = pd.DataFrame({\"umap-1\":umap_2d[:, 0],\n",
    "                       \"umap-2\": umap_2d[:, 1], \n",
    "                      \"sampleID\": df.index, \n",
    "                      \"locale\": location})"
   ]
  },
  {
   "cell_type": "code",
   "execution_count": 60,
   "id": "38df93f9",
   "metadata": {},
   "outputs": [
    {
     "data": {
      "text/html": [
       "<div>                            <div id=\"15629879-ed8e-488d-9739-7ebe317f6178\" class=\"plotly-graph-div\" style=\"height:600px; width:800px;\"></div>            <script type=\"text/javascript\">                require([\"plotly\"], function(Plotly) {                    window.PLOTLYENV=window.PLOTLYENV || {};                                    if (document.getElementById(\"15629879-ed8e-488d-9739-7ebe317f6178\")) {                    Plotly.newPlot(                        \"15629879-ed8e-488d-9739-7ebe317f6178\",                        [{\"customdata\":[[\"P-1-NW-1DPC\"],[\"P-1-NW-3DPC\"],[\"P-1-NW-4DPC\"],[\"P-2-NW-1DPC\"],[\"P-2-NW-3DPC\"],[\"P-3-NW-1DPC\"],[\"P-3-NW-3DPC\"],[\"P-3-NW-4DPC\"],[\"P-4-NW-1DPC\"],[\"P-4-NW-3DPC\"],[\"P-4-NW-4DPC\"],[\"P-5-NW-3DPC\"],[\"P-5-NW-5DPC\"],[\"P-6-NW-1DPC\"],[\"P-6-NW-5DPC\"]],\"hovertemplate\":\"locale=P<br>umap-1=%{x}<br>umap-2=%{y}<br>sampleID=%{customdata[0]}<extra></extra>\",\"legendgroup\":\"P\",\"marker\":{\"color\":\"#636efa\",\"symbol\":\"circle\"},\"mode\":\"markers\",\"name\":\"P\",\"orientation\":\"v\",\"showlegend\":true,\"x\":[9.404329,9.723337,8.768439,7.7612753,8.005074,7.7937098,7.518281,9.388815,10.200429,9.742462,9.3722725,9.236286,8.886849,8.790522,8.187514],\"xaxis\":\"x\",\"y\":[21.078089,23.091923,22.299479,22.893469,21.890457,23.54786,24.013031,23.640001,23.29011,22.031948,21.788681,24.468987,24.30815,21.040876,24.622261],\"yaxis\":\"y\",\"type\":\"scatter\"},{\"customdata\":[[\"NP-10-NW-3DPC\"],[\"NP-10-NW-4DPC\"],[\"NP-14-NW-3DPC\"],[\"NP-15-NW-3DPC\"],[\"NP-15-NW-5DPC\"],[\"NP-15-NW-7DPC\"],[\"NP-17-NW-5DPC\"],[\"NP-18-NW-3DPC\"],[\"NP-9-NW-1DPC\"],[\"NP-9-NW-3DPC\"],[\"NP-9-NW-4DPC\"]],\"hovertemplate\":\"locale=NP<br>umap-1=%{x}<br>umap-2=%{y}<br>sampleID=%{customdata[0]}<extra></extra>\",\"legendgroup\":\"NP\",\"marker\":{\"color\":\"#EF553B\",\"symbol\":\"circle\"},\"mode\":\"markers\",\"name\":\"NP\",\"orientation\":\"v\",\"showlegend\":true,\"x\":[7.304847,8.496795,7.9451985,8.179239,9.248265,8.490222,8.302597,8.757596,8.440269,9.663528,10.076575],\"xaxis\":\"x\",\"y\":[23.447737,21.726248,24.091635,23.426214,22.688658,24.39337,22.988333,23.457102,21.16251,24.635818,23.827078],\"yaxis\":\"y\",\"type\":\"scatter\"},{\"customdata\":[[\"CO-12-NW-1DPC\"],[\"CO-12-NW-3DPC\"],[\"CO-12-NW-5DPC\"],[\"CO-16-NW-1DPC\"],[\"CO-16-NW-3DPC\"],[\"CO-20-NW-1DPC\"],[\"CO-20-NW-3DPC\"],[\"CO-20-NW-5DPC\"]],\"hovertemplate\":\"locale=CO<br>umap-1=%{x}<br>umap-2=%{y}<br>sampleID=%{customdata[0]}<extra></extra>\",\"legendgroup\":\"CO\",\"marker\":{\"color\":\"#00cc96\",\"symbol\":\"circle\"},\"mode\":\"markers\",\"name\":\"CO\",\"orientation\":\"v\",\"showlegend\":true,\"x\":[8.46611,9.28332,8.873632,8.408467,8.891541,9.55543,9.932797,8.913995],\"xaxis\":\"x\",\"y\":[23.903708,23.228792,23.849146,22.792189,21.38,23.987928,22.841784,23.006165],\"yaxis\":\"y\",\"type\":\"scatter\"}],                        {\"template\":{\"data\":{\"histogram2dcontour\":[{\"type\":\"histogram2dcontour\",\"colorbar\":{\"outlinewidth\":0,\"ticks\":\"\"},\"colorscale\":[[0.0,\"#0d0887\"],[0.1111111111111111,\"#46039f\"],[0.2222222222222222,\"#7201a8\"],[0.3333333333333333,\"#9c179e\"],[0.4444444444444444,\"#bd3786\"],[0.5555555555555556,\"#d8576b\"],[0.6666666666666666,\"#ed7953\"],[0.7777777777777778,\"#fb9f3a\"],[0.8888888888888888,\"#fdca26\"],[1.0,\"#f0f921\"]]}],\"choropleth\":[{\"type\":\"choropleth\",\"colorbar\":{\"outlinewidth\":0,\"ticks\":\"\"}}],\"histogram2d\":[{\"type\":\"histogram2d\",\"colorbar\":{\"outlinewidth\":0,\"ticks\":\"\"},\"colorscale\":[[0.0,\"#0d0887\"],[0.1111111111111111,\"#46039f\"],[0.2222222222222222,\"#7201a8\"],[0.3333333333333333,\"#9c179e\"],[0.4444444444444444,\"#bd3786\"],[0.5555555555555556,\"#d8576b\"],[0.6666666666666666,\"#ed7953\"],[0.7777777777777778,\"#fb9f3a\"],[0.8888888888888888,\"#fdca26\"],[1.0,\"#f0f921\"]]}],\"heatmap\":[{\"type\":\"heatmap\",\"colorbar\":{\"outlinewidth\":0,\"ticks\":\"\"},\"colorscale\":[[0.0,\"#0d0887\"],[0.1111111111111111,\"#46039f\"],[0.2222222222222222,\"#7201a8\"],[0.3333333333333333,\"#9c179e\"],[0.4444444444444444,\"#bd3786\"],[0.5555555555555556,\"#d8576b\"],[0.6666666666666666,\"#ed7953\"],[0.7777777777777778,\"#fb9f3a\"],[0.8888888888888888,\"#fdca26\"],[1.0,\"#f0f921\"]]}],\"heatmapgl\":[{\"type\":\"heatmapgl\",\"colorbar\":{\"outlinewidth\":0,\"ticks\":\"\"},\"colorscale\":[[0.0,\"#0d0887\"],[0.1111111111111111,\"#46039f\"],[0.2222222222222222,\"#7201a8\"],[0.3333333333333333,\"#9c179e\"],[0.4444444444444444,\"#bd3786\"],[0.5555555555555556,\"#d8576b\"],[0.6666666666666666,\"#ed7953\"],[0.7777777777777778,\"#fb9f3a\"],[0.8888888888888888,\"#fdca26\"],[1.0,\"#f0f921\"]]}],\"contourcarpet\":[{\"type\":\"contourcarpet\",\"colorbar\":{\"outlinewidth\":0,\"ticks\":\"\"}}],\"contour\":[{\"type\":\"contour\",\"colorbar\":{\"outlinewidth\":0,\"ticks\":\"\"},\"colorscale\":[[0.0,\"#0d0887\"],[0.1111111111111111,\"#46039f\"],[0.2222222222222222,\"#7201a8\"],[0.3333333333333333,\"#9c179e\"],[0.4444444444444444,\"#bd3786\"],[0.5555555555555556,\"#d8576b\"],[0.6666666666666666,\"#ed7953\"],[0.7777777777777778,\"#fb9f3a\"],[0.8888888888888888,\"#fdca26\"],[1.0,\"#f0f921\"]]}],\"surface\":[{\"type\":\"surface\",\"colorbar\":{\"outlinewidth\":0,\"ticks\":\"\"},\"colorscale\":[[0.0,\"#0d0887\"],[0.1111111111111111,\"#46039f\"],[0.2222222222222222,\"#7201a8\"],[0.3333333333333333,\"#9c179e\"],[0.4444444444444444,\"#bd3786\"],[0.5555555555555556,\"#d8576b\"],[0.6666666666666666,\"#ed7953\"],[0.7777777777777778,\"#fb9f3a\"],[0.8888888888888888,\"#fdca26\"],[1.0,\"#f0f921\"]]}],\"mesh3d\":[{\"type\":\"mesh3d\",\"colorbar\":{\"outlinewidth\":0,\"ticks\":\"\"}}],\"scatter\":[{\"fillpattern\":{\"fillmode\":\"overlay\",\"size\":10,\"solidity\":0.2},\"type\":\"scatter\"}],\"parcoords\":[{\"type\":\"parcoords\",\"line\":{\"colorbar\":{\"outlinewidth\":0,\"ticks\":\"\"}}}],\"scatterpolargl\":[{\"type\":\"scatterpolargl\",\"marker\":{\"colorbar\":{\"outlinewidth\":0,\"ticks\":\"\"}}}],\"bar\":[{\"error_x\":{\"color\":\"#2a3f5f\"},\"error_y\":{\"color\":\"#2a3f5f\"},\"marker\":{\"line\":{\"color\":\"#E5ECF6\",\"width\":0.5},\"pattern\":{\"fillmode\":\"overlay\",\"size\":10,\"solidity\":0.2}},\"type\":\"bar\"}],\"scattergeo\":[{\"type\":\"scattergeo\",\"marker\":{\"colorbar\":{\"outlinewidth\":0,\"ticks\":\"\"}}}],\"scatterpolar\":[{\"type\":\"scatterpolar\",\"marker\":{\"colorbar\":{\"outlinewidth\":0,\"ticks\":\"\"}}}],\"histogram\":[{\"marker\":{\"pattern\":{\"fillmode\":\"overlay\",\"size\":10,\"solidity\":0.2}},\"type\":\"histogram\"}],\"scattergl\":[{\"type\":\"scattergl\",\"marker\":{\"colorbar\":{\"outlinewidth\":0,\"ticks\":\"\"}}}],\"scatter3d\":[{\"type\":\"scatter3d\",\"line\":{\"colorbar\":{\"outlinewidth\":0,\"ticks\":\"\"}},\"marker\":{\"colorbar\":{\"outlinewidth\":0,\"ticks\":\"\"}}}],\"scattermapbox\":[{\"type\":\"scattermapbox\",\"marker\":{\"colorbar\":{\"outlinewidth\":0,\"ticks\":\"\"}}}],\"scatterternary\":[{\"type\":\"scatterternary\",\"marker\":{\"colorbar\":{\"outlinewidth\":0,\"ticks\":\"\"}}}],\"scattercarpet\":[{\"type\":\"scattercarpet\",\"marker\":{\"colorbar\":{\"outlinewidth\":0,\"ticks\":\"\"}}}],\"carpet\":[{\"aaxis\":{\"endlinecolor\":\"#2a3f5f\",\"gridcolor\":\"white\",\"linecolor\":\"white\",\"minorgridcolor\":\"white\",\"startlinecolor\":\"#2a3f5f\"},\"baxis\":{\"endlinecolor\":\"#2a3f5f\",\"gridcolor\":\"white\",\"linecolor\":\"white\",\"minorgridcolor\":\"white\",\"startlinecolor\":\"#2a3f5f\"},\"type\":\"carpet\"}],\"table\":[{\"cells\":{\"fill\":{\"color\":\"#EBF0F8\"},\"line\":{\"color\":\"white\"}},\"header\":{\"fill\":{\"color\":\"#C8D4E3\"},\"line\":{\"color\":\"white\"}},\"type\":\"table\"}],\"barpolar\":[{\"marker\":{\"line\":{\"color\":\"#E5ECF6\",\"width\":0.5},\"pattern\":{\"fillmode\":\"overlay\",\"size\":10,\"solidity\":0.2}},\"type\":\"barpolar\"}],\"pie\":[{\"automargin\":true,\"type\":\"pie\"}]},\"layout\":{\"autotypenumbers\":\"strict\",\"colorway\":[\"#636efa\",\"#EF553B\",\"#00cc96\",\"#ab63fa\",\"#FFA15A\",\"#19d3f3\",\"#FF6692\",\"#B6E880\",\"#FF97FF\",\"#FECB52\"],\"font\":{\"color\":\"#2a3f5f\"},\"hovermode\":\"closest\",\"hoverlabel\":{\"align\":\"left\"},\"paper_bgcolor\":\"white\",\"plot_bgcolor\":\"#E5ECF6\",\"polar\":{\"bgcolor\":\"#E5ECF6\",\"angularaxis\":{\"gridcolor\":\"white\",\"linecolor\":\"white\",\"ticks\":\"\"},\"radialaxis\":{\"gridcolor\":\"white\",\"linecolor\":\"white\",\"ticks\":\"\"}},\"ternary\":{\"bgcolor\":\"#E5ECF6\",\"aaxis\":{\"gridcolor\":\"white\",\"linecolor\":\"white\",\"ticks\":\"\"},\"baxis\":{\"gridcolor\":\"white\",\"linecolor\":\"white\",\"ticks\":\"\"},\"caxis\":{\"gridcolor\":\"white\",\"linecolor\":\"white\",\"ticks\":\"\"}},\"coloraxis\":{\"colorbar\":{\"outlinewidth\":0,\"ticks\":\"\"}},\"colorscale\":{\"sequential\":[[0.0,\"#0d0887\"],[0.1111111111111111,\"#46039f\"],[0.2222222222222222,\"#7201a8\"],[0.3333333333333333,\"#9c179e\"],[0.4444444444444444,\"#bd3786\"],[0.5555555555555556,\"#d8576b\"],[0.6666666666666666,\"#ed7953\"],[0.7777777777777778,\"#fb9f3a\"],[0.8888888888888888,\"#fdca26\"],[1.0,\"#f0f921\"]],\"sequentialminus\":[[0.0,\"#0d0887\"],[0.1111111111111111,\"#46039f\"],[0.2222222222222222,\"#7201a8\"],[0.3333333333333333,\"#9c179e\"],[0.4444444444444444,\"#bd3786\"],[0.5555555555555556,\"#d8576b\"],[0.6666666666666666,\"#ed7953\"],[0.7777777777777778,\"#fb9f3a\"],[0.8888888888888888,\"#fdca26\"],[1.0,\"#f0f921\"]],\"diverging\":[[0,\"#8e0152\"],[0.1,\"#c51b7d\"],[0.2,\"#de77ae\"],[0.3,\"#f1b6da\"],[0.4,\"#fde0ef\"],[0.5,\"#f7f7f7\"],[0.6,\"#e6f5d0\"],[0.7,\"#b8e186\"],[0.8,\"#7fbc41\"],[0.9,\"#4d9221\"],[1,\"#276419\"]]},\"xaxis\":{\"gridcolor\":\"white\",\"linecolor\":\"white\",\"ticks\":\"\",\"title\":{\"standoff\":15},\"zerolinecolor\":\"white\",\"automargin\":true,\"zerolinewidth\":2},\"yaxis\":{\"gridcolor\":\"white\",\"linecolor\":\"white\",\"ticks\":\"\",\"title\":{\"standoff\":15},\"zerolinecolor\":\"white\",\"automargin\":true,\"zerolinewidth\":2},\"scene\":{\"xaxis\":{\"backgroundcolor\":\"#E5ECF6\",\"gridcolor\":\"white\",\"linecolor\":\"white\",\"showbackground\":true,\"ticks\":\"\",\"zerolinecolor\":\"white\",\"gridwidth\":2},\"yaxis\":{\"backgroundcolor\":\"#E5ECF6\",\"gridcolor\":\"white\",\"linecolor\":\"white\",\"showbackground\":true,\"ticks\":\"\",\"zerolinecolor\":\"white\",\"gridwidth\":2},\"zaxis\":{\"backgroundcolor\":\"#E5ECF6\",\"gridcolor\":\"white\",\"linecolor\":\"white\",\"showbackground\":true,\"ticks\":\"\",\"zerolinecolor\":\"white\",\"gridwidth\":2}},\"shapedefaults\":{\"line\":{\"color\":\"#2a3f5f\"}},\"annotationdefaults\":{\"arrowcolor\":\"#2a3f5f\",\"arrowhead\":0,\"arrowwidth\":1},\"geo\":{\"bgcolor\":\"white\",\"landcolor\":\"#E5ECF6\",\"subunitcolor\":\"white\",\"showland\":true,\"showlakes\":true,\"lakecolor\":\"white\"},\"title\":{\"x\":0.05},\"mapbox\":{\"style\":\"light\"}}},\"xaxis\":{\"anchor\":\"y\",\"domain\":[0.0,1.0],\"title\":{\"text\":\"umap-1\"}},\"yaxis\":{\"anchor\":\"x\",\"domain\":[0.0,1.0],\"title\":{\"text\":\"umap-2\"}},\"legend\":{\"title\":{\"text\":\"locale\"},\"tracegroupgap\":0},\"margin\":{\"t\":60},\"height\":600,\"width\":800},                        {\"responsive\": true}                    ).then(function(){\n",
       "                            \n",
       "var gd = document.getElementById('15629879-ed8e-488d-9739-7ebe317f6178');\n",
       "var x = new MutationObserver(function (mutations, observer) {{\n",
       "        var display = window.getComputedStyle(gd).display;\n",
       "        if (!display || display === 'none') {{\n",
       "            console.log([gd, 'removed!']);\n",
       "            Plotly.purge(gd);\n",
       "            observer.disconnect();\n",
       "        }}\n",
       "}});\n",
       "\n",
       "// Listen for the removal of the full notebook cells\n",
       "var notebookContainer = gd.closest('#notebook-container');\n",
       "if (notebookContainer) {{\n",
       "    x.observe(notebookContainer, {childList: true});\n",
       "}}\n",
       "\n",
       "// Listen for the clearing of the current output cell\n",
       "var outputEl = gd.closest('.output');\n",
       "if (outputEl) {{\n",
       "    x.observe(outputEl, {childList: true});\n",
       "}}\n",
       "\n",
       "                        })                };                });            </script>        </div>"
      ]
     },
     "metadata": {},
     "output_type": "display_data"
    }
   ],
   "source": [
    "px.scatter(umap_df, x = 'umap-1', y = 'umap-2', hover_data = ['sampleID'], color = 'locale', height = 600, width = 800)"
   ]
  },
  {
   "cell_type": "code",
   "execution_count": null,
   "id": "b96985bb",
   "metadata": {},
   "outputs": [],
   "source": []
  }
 ],
 "metadata": {
  "kernelspec": {
   "display_name": "Python 3 (ipykernel)",
   "language": "python",
   "name": "python3"
  },
  "language_info": {
   "codemirror_mode": {
    "name": "ipython",
    "version": 3
   },
   "file_extension": ".py",
   "mimetype": "text/x-python",
   "name": "python",
   "nbconvert_exporter": "python",
   "pygments_lexer": "ipython3",
   "version": "3.9.12"
  }
 },
 "nbformat": 4,
 "nbformat_minor": 5
}
